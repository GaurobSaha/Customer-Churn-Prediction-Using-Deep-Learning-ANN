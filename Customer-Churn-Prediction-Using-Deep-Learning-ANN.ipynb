{
 "cells": [
  {
   "cell_type": "markdown",
   "id": "dded68b2",
   "metadata": {
    "execution": {
     "iopub.execute_input": "2025-02-21T17:55:00.850567Z",
     "iopub.status.busy": "2025-02-21T17:55:00.850174Z",
     "iopub.status.idle": "2025-02-21T17:55:01.164930Z",
     "shell.execute_reply": "2025-02-21T17:55:01.164026Z",
     "shell.execute_reply.started": "2025-02-21T17:55:00.850531Z"
    },
    "id": "DPRVM98N6obf",
    "outputId": "2fd7692e-6d15-4de6-d87d-b929c7645bf6",
    "papermill": {
     "duration": 0.007104,
     "end_time": "2025-02-23T18:06:36.781105",
     "exception": false,
     "start_time": "2025-02-23T18:06:36.774001",
     "status": "completed"
    },
    "tags": []
   },
   "source": [
    "# Introduction:\n",
    "\n",
    "- This project focuses on predicting customer churn for a credit card company using an Artificial Neural Network (ANN). The dataset consists of customer demographics, financial attributes, and behavioral factors that influence whether a customer stays or leaves. The goal is to build a predictive model using deep learning techniques that accurately classify customers into churned (Exited = 1) or retained (Exited = 0).\n",
    "\n"
   ]
  },
  {
   "cell_type": "code",
   "execution_count": 1,
   "id": "9b88cedb",
   "metadata": {
    "execution": {
     "iopub.execute_input": "2025-02-23T18:06:36.795272Z",
     "iopub.status.busy": "2025-02-23T18:06:36.794868Z",
     "iopub.status.idle": "2025-02-23T18:06:37.893833Z",
     "shell.execute_reply": "2025-02-23T18:06:37.892642Z"
    },
    "papermill": {
     "duration": 1.108474,
     "end_time": "2025-02-23T18:06:37.895988",
     "exception": false,
     "start_time": "2025-02-23T18:06:36.787514",
     "status": "completed"
    },
    "tags": []
   },
   "outputs": [],
   "source": [
    "import numpy as np # linear algebra\n",
    "import pandas as pd # data processing, CSV file I/O (e.g. pd.read_csv)\n",
    "\n",
    "# Input data files are available in the read-only \"../input/\" directory\n",
    "# For example, running this (by clicking run or pressing Shift+Enter) will list all files under the input directory\n",
    "\n",
    "import os\n",
    "for dirname, _, filenames in os.walk('/kaggle/input'):\n",
    "    for filename in filenames:\n",
    "        os.path.join(dirname, filename)\n",
    "\n",
    "# You can write up to 20GB to the current directory (/kaggle/working/) that gets preserved as output when you create a version using \"Save & Run All\" \n",
    "# You can also write temporary files to /kaggle/temp/, but they won't be saved outside of the current session\n",
    "\n"
   ]
  },
  {
   "cell_type": "code",
   "execution_count": 2,
   "id": "93207b9b",
   "metadata": {
    "execution": {
     "iopub.execute_input": "2025-02-23T18:06:37.911243Z",
     "iopub.status.busy": "2025-02-23T18:06:37.910611Z",
     "iopub.status.idle": "2025-02-23T18:06:37.915190Z",
     "shell.execute_reply": "2025-02-23T18:06:37.914156Z"
    },
    "id": "YRHTFrnA7Yku",
    "papermill": {
     "duration": 0.014231,
     "end_time": "2025-02-23T18:06:37.916835",
     "exception": false,
     "start_time": "2025-02-23T18:06:37.902604",
     "status": "completed"
    },
    "tags": []
   },
   "outputs": [],
   "source": [
    "import pandas as pd\n",
    "import matplotlib.pyplot as plt\n"
   ]
  },
  {
   "cell_type": "code",
   "execution_count": 3,
   "id": "7dd72c01",
   "metadata": {
    "execution": {
     "iopub.execute_input": "2025-02-23T18:06:37.931323Z",
     "iopub.status.busy": "2025-02-23T18:06:37.930908Z",
     "iopub.status.idle": "2025-02-23T18:06:38.005210Z",
     "shell.execute_reply": "2025-02-23T18:06:38.003628Z"
    },
    "id": "m-Vsjo1d73Gz",
    "outputId": "42fd423d-2f34-42c7-9d82-60edd6478107",
    "papermill": {
     "duration": 0.083713,
     "end_time": "2025-02-23T18:06:38.007170",
     "exception": false,
     "start_time": "2025-02-23T18:06:37.923457",
     "status": "completed"
    },
    "tags": []
   },
   "outputs": [
    {
     "data": {
      "text/html": [
       "<div>\n",
       "<style scoped>\n",
       "    .dataframe tbody tr th:only-of-type {\n",
       "        vertical-align: middle;\n",
       "    }\n",
       "\n",
       "    .dataframe tbody tr th {\n",
       "        vertical-align: top;\n",
       "    }\n",
       "\n",
       "    .dataframe thead th {\n",
       "        text-align: right;\n",
       "    }\n",
       "</style>\n",
       "<table border=\"1\" class=\"dataframe\">\n",
       "  <thead>\n",
       "    <tr style=\"text-align: right;\">\n",
       "      <th></th>\n",
       "      <th>RowNumber</th>\n",
       "      <th>CustomerId</th>\n",
       "      <th>Surname</th>\n",
       "      <th>CreditScore</th>\n",
       "      <th>Geography</th>\n",
       "      <th>Gender</th>\n",
       "      <th>Age</th>\n",
       "      <th>Tenure</th>\n",
       "      <th>Balance</th>\n",
       "      <th>NumOfProducts</th>\n",
       "      <th>HasCrCard</th>\n",
       "      <th>IsActiveMember</th>\n",
       "      <th>EstimatedSalary</th>\n",
       "      <th>Exited</th>\n",
       "    </tr>\n",
       "  </thead>\n",
       "  <tbody>\n",
       "    <tr>\n",
       "      <th>0</th>\n",
       "      <td>1</td>\n",
       "      <td>15634602</td>\n",
       "      <td>Hargrave</td>\n",
       "      <td>619</td>\n",
       "      <td>France</td>\n",
       "      <td>Female</td>\n",
       "      <td>42</td>\n",
       "      <td>2</td>\n",
       "      <td>0.00</td>\n",
       "      <td>1</td>\n",
       "      <td>1</td>\n",
       "      <td>1</td>\n",
       "      <td>101348.88</td>\n",
       "      <td>1</td>\n",
       "    </tr>\n",
       "    <tr>\n",
       "      <th>1</th>\n",
       "      <td>2</td>\n",
       "      <td>15647311</td>\n",
       "      <td>Hill</td>\n",
       "      <td>608</td>\n",
       "      <td>Spain</td>\n",
       "      <td>Female</td>\n",
       "      <td>41</td>\n",
       "      <td>1</td>\n",
       "      <td>83807.86</td>\n",
       "      <td>1</td>\n",
       "      <td>0</td>\n",
       "      <td>1</td>\n",
       "      <td>112542.58</td>\n",
       "      <td>0</td>\n",
       "    </tr>\n",
       "    <tr>\n",
       "      <th>2</th>\n",
       "      <td>3</td>\n",
       "      <td>15619304</td>\n",
       "      <td>Onio</td>\n",
       "      <td>502</td>\n",
       "      <td>France</td>\n",
       "      <td>Female</td>\n",
       "      <td>42</td>\n",
       "      <td>8</td>\n",
       "      <td>159660.80</td>\n",
       "      <td>3</td>\n",
       "      <td>1</td>\n",
       "      <td>0</td>\n",
       "      <td>113931.57</td>\n",
       "      <td>1</td>\n",
       "    </tr>\n",
       "    <tr>\n",
       "      <th>3</th>\n",
       "      <td>4</td>\n",
       "      <td>15701354</td>\n",
       "      <td>Boni</td>\n",
       "      <td>699</td>\n",
       "      <td>France</td>\n",
       "      <td>Female</td>\n",
       "      <td>39</td>\n",
       "      <td>1</td>\n",
       "      <td>0.00</td>\n",
       "      <td>2</td>\n",
       "      <td>0</td>\n",
       "      <td>0</td>\n",
       "      <td>93826.63</td>\n",
       "      <td>0</td>\n",
       "    </tr>\n",
       "    <tr>\n",
       "      <th>4</th>\n",
       "      <td>5</td>\n",
       "      <td>15737888</td>\n",
       "      <td>Mitchell</td>\n",
       "      <td>850</td>\n",
       "      <td>Spain</td>\n",
       "      <td>Female</td>\n",
       "      <td>43</td>\n",
       "      <td>2</td>\n",
       "      <td>125510.82</td>\n",
       "      <td>1</td>\n",
       "      <td>1</td>\n",
       "      <td>1</td>\n",
       "      <td>79084.10</td>\n",
       "      <td>0</td>\n",
       "    </tr>\n",
       "  </tbody>\n",
       "</table>\n",
       "</div>"
      ],
      "text/plain": [
       "   RowNumber  CustomerId   Surname  CreditScore Geography  Gender  Age  \\\n",
       "0          1    15634602  Hargrave          619    France  Female   42   \n",
       "1          2    15647311      Hill          608     Spain  Female   41   \n",
       "2          3    15619304      Onio          502    France  Female   42   \n",
       "3          4    15701354      Boni          699    France  Female   39   \n",
       "4          5    15737888  Mitchell          850     Spain  Female   43   \n",
       "\n",
       "   Tenure    Balance  NumOfProducts  HasCrCard  IsActiveMember  \\\n",
       "0       2       0.00              1          1               1   \n",
       "1       1   83807.86              1          0               1   \n",
       "2       8  159660.80              3          1               0   \n",
       "3       1       0.00              2          0               0   \n",
       "4       2  125510.82              1          1               1   \n",
       "\n",
       "   EstimatedSalary  Exited  \n",
       "0        101348.88       1  \n",
       "1        112542.58       0  \n",
       "2        113931.57       1  \n",
       "3         93826.63       0  \n",
       "4         79084.10       0  "
      ]
     },
     "execution_count": 3,
     "metadata": {},
     "output_type": "execute_result"
    }
   ],
   "source": [
    "df = pd.read_csv(\"/kaggle/input/credit-card-customer-churn-prediction/Churn_Modelling.csv\")\n",
    "df.head()"
   ]
  },
  {
   "cell_type": "code",
   "execution_count": 4,
   "id": "b7e6f7eb",
   "metadata": {
    "execution": {
     "iopub.execute_input": "2025-02-23T18:06:38.022170Z",
     "iopub.status.busy": "2025-02-23T18:06:38.021755Z",
     "iopub.status.idle": "2025-02-23T18:06:38.054994Z",
     "shell.execute_reply": "2025-02-23T18:06:38.053674Z"
    },
    "id": "GT5WfMR477D-",
    "outputId": "f25d72dd-00fe-4ffc-9f47-a254fce97443",
    "papermill": {
     "duration": 0.042821,
     "end_time": "2025-02-23T18:06:38.056967",
     "exception": false,
     "start_time": "2025-02-23T18:06:38.014146",
     "status": "completed"
    },
    "tags": []
   },
   "outputs": [
    {
     "name": "stdout",
     "output_type": "stream",
     "text": [
      "<class 'pandas.core.frame.DataFrame'>\n",
      "RangeIndex: 10000 entries, 0 to 9999\n",
      "Data columns (total 14 columns):\n",
      " #   Column           Non-Null Count  Dtype  \n",
      "---  ------           --------------  -----  \n",
      " 0   RowNumber        10000 non-null  int64  \n",
      " 1   CustomerId       10000 non-null  int64  \n",
      " 2   Surname          10000 non-null  object \n",
      " 3   CreditScore      10000 non-null  int64  \n",
      " 4   Geography        10000 non-null  object \n",
      " 5   Gender           10000 non-null  object \n",
      " 6   Age              10000 non-null  int64  \n",
      " 7   Tenure           10000 non-null  int64  \n",
      " 8   Balance          10000 non-null  float64\n",
      " 9   NumOfProducts    10000 non-null  int64  \n",
      " 10  HasCrCard        10000 non-null  int64  \n",
      " 11  IsActiveMember   10000 non-null  int64  \n",
      " 12  EstimatedSalary  10000 non-null  float64\n",
      " 13  Exited           10000 non-null  int64  \n",
      "dtypes: float64(2), int64(9), object(3)\n",
      "memory usage: 1.1+ MB\n"
     ]
    }
   ],
   "source": [
    "df.info()"
   ]
  },
  {
   "cell_type": "code",
   "execution_count": 5,
   "id": "6f4017e8",
   "metadata": {
    "execution": {
     "iopub.execute_input": "2025-02-23T18:06:38.072569Z",
     "iopub.status.busy": "2025-02-23T18:06:38.072171Z",
     "iopub.status.idle": "2025-02-23T18:06:38.086749Z",
     "shell.execute_reply": "2025-02-23T18:06:38.085482Z"
    },
    "id": "Jp0d0irrb82i",
    "outputId": "57d9c2be-69b8-4cbc-a1d8-cfe3b869d16f",
    "papermill": {
     "duration": 0.024888,
     "end_time": "2025-02-23T18:06:38.088688",
     "exception": false,
     "start_time": "2025-02-23T18:06:38.063800",
     "status": "completed"
    },
    "tags": []
   },
   "outputs": [
    {
     "data": {
      "text/plain": [
       "0"
      ]
     },
     "execution_count": 5,
     "metadata": {},
     "output_type": "execute_result"
    }
   ],
   "source": [
    "df.duplicated().sum()"
   ]
  },
  {
   "cell_type": "code",
   "execution_count": 6,
   "id": "c942ebca",
   "metadata": {
    "execution": {
     "iopub.execute_input": "2025-02-23T18:06:38.103898Z",
     "iopub.status.busy": "2025-02-23T18:06:38.103522Z",
     "iopub.status.idle": "2025-02-23T18:06:38.113525Z",
     "shell.execute_reply": "2025-02-23T18:06:38.112367Z"
    },
    "id": "LiVDACFacHzb",
    "outputId": "34b1e799-87c3-4d35-8e38-6260e59673a7",
    "papermill": {
     "duration": 0.019835,
     "end_time": "2025-02-23T18:06:38.115540",
     "exception": false,
     "start_time": "2025-02-23T18:06:38.095705",
     "status": "completed"
    },
    "tags": []
   },
   "outputs": [
    {
     "data": {
      "text/plain": [
       "Exited\n",
       "0    7963\n",
       "1    2037\n",
       "Name: count, dtype: int64"
      ]
     },
     "execution_count": 6,
     "metadata": {},
     "output_type": "execute_result"
    }
   ],
   "source": [
    "df['Exited'].value_counts()"
   ]
  },
  {
   "cell_type": "code",
   "execution_count": 7,
   "id": "c4eb6ae7",
   "metadata": {
    "execution": {
     "iopub.execute_input": "2025-02-23T18:06:38.131286Z",
     "iopub.status.busy": "2025-02-23T18:06:38.130875Z",
     "iopub.status.idle": "2025-02-23T18:06:38.139115Z",
     "shell.execute_reply": "2025-02-23T18:06:38.138170Z"
    },
    "id": "Jhagq-5acOvZ",
    "outputId": "29d744aa-a3c7-4fbb-9d39-82bcf4060453",
    "papermill": {
     "duration": 0.018023,
     "end_time": "2025-02-23T18:06:38.140701",
     "exception": false,
     "start_time": "2025-02-23T18:06:38.122678",
     "status": "completed"
    },
    "tags": []
   },
   "outputs": [
    {
     "data": {
      "text/plain": [
       "Geography\n",
       "France     5014\n",
       "Germany    2509\n",
       "Spain      2477\n",
       "Name: count, dtype: int64"
      ]
     },
     "execution_count": 7,
     "metadata": {},
     "output_type": "execute_result"
    }
   ],
   "source": [
    "df['Geography'].value_counts()\n"
   ]
  },
  {
   "cell_type": "code",
   "execution_count": 8,
   "id": "1db6706b",
   "metadata": {
    "execution": {
     "iopub.execute_input": "2025-02-23T18:06:38.156233Z",
     "iopub.status.busy": "2025-02-23T18:06:38.155834Z",
     "iopub.status.idle": "2025-02-23T18:06:38.163992Z",
     "shell.execute_reply": "2025-02-23T18:06:38.162772Z"
    },
    "id": "cyA4LQ5kcVm9",
    "outputId": "adcde1b4-7955-41f3-f811-095c963d97fd",
    "papermill": {
     "duration": 0.017801,
     "end_time": "2025-02-23T18:06:38.165883",
     "exception": false,
     "start_time": "2025-02-23T18:06:38.148082",
     "status": "completed"
    },
    "tags": []
   },
   "outputs": [
    {
     "data": {
      "text/plain": [
       "Gender\n",
       "Male      5457\n",
       "Female    4543\n",
       "Name: count, dtype: int64"
      ]
     },
     "execution_count": 8,
     "metadata": {},
     "output_type": "execute_result"
    }
   ],
   "source": [
    "df['Gender'].value_counts()\n"
   ]
  },
  {
   "cell_type": "code",
   "execution_count": 9,
   "id": "3a121206",
   "metadata": {
    "execution": {
     "iopub.execute_input": "2025-02-23T18:06:38.181805Z",
     "iopub.status.busy": "2025-02-23T18:06:38.181403Z",
     "iopub.status.idle": "2025-02-23T18:06:38.189737Z",
     "shell.execute_reply": "2025-02-23T18:06:38.188629Z"
    },
    "id": "Gos0DEUwcYUz",
    "papermill": {
     "duration": 0.018376,
     "end_time": "2025-02-23T18:06:38.191601",
     "exception": false,
     "start_time": "2025-02-23T18:06:38.173225",
     "status": "completed"
    },
    "tags": []
   },
   "outputs": [],
   "source": [
    "df.drop(columns=['RowNumber','CustomerId','Surname'],inplace=True)"
   ]
  },
  {
   "cell_type": "code",
   "execution_count": 10,
   "id": "56918979",
   "metadata": {
    "execution": {
     "iopub.execute_input": "2025-02-23T18:06:38.207323Z",
     "iopub.status.busy": "2025-02-23T18:06:38.206910Z",
     "iopub.status.idle": "2025-02-23T18:06:38.221136Z",
     "shell.execute_reply": "2025-02-23T18:06:38.219664Z"
    },
    "id": "BKMGvGQBcsRH",
    "outputId": "217c3508-d370-4d32-bb3f-4175794784ab",
    "papermill": {
     "duration": 0.024324,
     "end_time": "2025-02-23T18:06:38.223021",
     "exception": false,
     "start_time": "2025-02-23T18:06:38.198697",
     "status": "completed"
    },
    "tags": []
   },
   "outputs": [
    {
     "data": {
      "text/html": [
       "<div>\n",
       "<style scoped>\n",
       "    .dataframe tbody tr th:only-of-type {\n",
       "        vertical-align: middle;\n",
       "    }\n",
       "\n",
       "    .dataframe tbody tr th {\n",
       "        vertical-align: top;\n",
       "    }\n",
       "\n",
       "    .dataframe thead th {\n",
       "        text-align: right;\n",
       "    }\n",
       "</style>\n",
       "<table border=\"1\" class=\"dataframe\">\n",
       "  <thead>\n",
       "    <tr style=\"text-align: right;\">\n",
       "      <th></th>\n",
       "      <th>CreditScore</th>\n",
       "      <th>Geography</th>\n",
       "      <th>Gender</th>\n",
       "      <th>Age</th>\n",
       "      <th>Tenure</th>\n",
       "      <th>Balance</th>\n",
       "      <th>NumOfProducts</th>\n",
       "      <th>HasCrCard</th>\n",
       "      <th>IsActiveMember</th>\n",
       "      <th>EstimatedSalary</th>\n",
       "      <th>Exited</th>\n",
       "    </tr>\n",
       "  </thead>\n",
       "  <tbody>\n",
       "    <tr>\n",
       "      <th>0</th>\n",
       "      <td>619</td>\n",
       "      <td>France</td>\n",
       "      <td>Female</td>\n",
       "      <td>42</td>\n",
       "      <td>2</td>\n",
       "      <td>0.00</td>\n",
       "      <td>1</td>\n",
       "      <td>1</td>\n",
       "      <td>1</td>\n",
       "      <td>101348.88</td>\n",
       "      <td>1</td>\n",
       "    </tr>\n",
       "    <tr>\n",
       "      <th>1</th>\n",
       "      <td>608</td>\n",
       "      <td>Spain</td>\n",
       "      <td>Female</td>\n",
       "      <td>41</td>\n",
       "      <td>1</td>\n",
       "      <td>83807.86</td>\n",
       "      <td>1</td>\n",
       "      <td>0</td>\n",
       "      <td>1</td>\n",
       "      <td>112542.58</td>\n",
       "      <td>0</td>\n",
       "    </tr>\n",
       "    <tr>\n",
       "      <th>2</th>\n",
       "      <td>502</td>\n",
       "      <td>France</td>\n",
       "      <td>Female</td>\n",
       "      <td>42</td>\n",
       "      <td>8</td>\n",
       "      <td>159660.80</td>\n",
       "      <td>3</td>\n",
       "      <td>1</td>\n",
       "      <td>0</td>\n",
       "      <td>113931.57</td>\n",
       "      <td>1</td>\n",
       "    </tr>\n",
       "    <tr>\n",
       "      <th>3</th>\n",
       "      <td>699</td>\n",
       "      <td>France</td>\n",
       "      <td>Female</td>\n",
       "      <td>39</td>\n",
       "      <td>1</td>\n",
       "      <td>0.00</td>\n",
       "      <td>2</td>\n",
       "      <td>0</td>\n",
       "      <td>0</td>\n",
       "      <td>93826.63</td>\n",
       "      <td>0</td>\n",
       "    </tr>\n",
       "    <tr>\n",
       "      <th>4</th>\n",
       "      <td>850</td>\n",
       "      <td>Spain</td>\n",
       "      <td>Female</td>\n",
       "      <td>43</td>\n",
       "      <td>2</td>\n",
       "      <td>125510.82</td>\n",
       "      <td>1</td>\n",
       "      <td>1</td>\n",
       "      <td>1</td>\n",
       "      <td>79084.10</td>\n",
       "      <td>0</td>\n",
       "    </tr>\n",
       "  </tbody>\n",
       "</table>\n",
       "</div>"
      ],
      "text/plain": [
       "   CreditScore Geography  Gender  Age  Tenure    Balance  NumOfProducts  \\\n",
       "0          619    France  Female   42       2       0.00              1   \n",
       "1          608     Spain  Female   41       1   83807.86              1   \n",
       "2          502    France  Female   42       8  159660.80              3   \n",
       "3          699    France  Female   39       1       0.00              2   \n",
       "4          850     Spain  Female   43       2  125510.82              1   \n",
       "\n",
       "   HasCrCard  IsActiveMember  EstimatedSalary  Exited  \n",
       "0          1               1        101348.88       1  \n",
       "1          0               1        112542.58       0  \n",
       "2          1               0        113931.57       1  \n",
       "3          0               0         93826.63       0  \n",
       "4          1               1         79084.10       0  "
      ]
     },
     "execution_count": 10,
     "metadata": {},
     "output_type": "execute_result"
    }
   ],
   "source": [
    "df.head(5)"
   ]
  },
  {
   "cell_type": "code",
   "execution_count": 11,
   "id": "205f6485",
   "metadata": {
    "execution": {
     "iopub.execute_input": "2025-02-23T18:06:38.240013Z",
     "iopub.status.busy": "2025-02-23T18:06:38.239621Z",
     "iopub.status.idle": "2025-02-23T18:06:38.251114Z",
     "shell.execute_reply": "2025-02-23T18:06:38.250162Z"
    },
    "id": "FBieWOVIcuHF",
    "papermill": {
     "duration": 0.022119,
     "end_time": "2025-02-23T18:06:38.253027",
     "exception": false,
     "start_time": "2025-02-23T18:06:38.230908",
     "status": "completed"
    },
    "tags": []
   },
   "outputs": [],
   "source": [
    "df=pd.get_dummies(df,columns=['Geography','Gender'],drop_first=True)"
   ]
  },
  {
   "cell_type": "code",
   "execution_count": 12,
   "id": "4a60999f",
   "metadata": {
    "execution": {
     "iopub.execute_input": "2025-02-23T18:06:38.271636Z",
     "iopub.status.busy": "2025-02-23T18:06:38.271277Z",
     "iopub.status.idle": "2025-02-23T18:06:38.286887Z",
     "shell.execute_reply": "2025-02-23T18:06:38.285807Z"
    },
    "id": "-ci_8vjodHCU",
    "outputId": "8e4efeb0-1679-4112-afa9-4f7ec7368a43",
    "papermill": {
     "duration": 0.025946,
     "end_time": "2025-02-23T18:06:38.288746",
     "exception": false,
     "start_time": "2025-02-23T18:06:38.262800",
     "status": "completed"
    },
    "tags": []
   },
   "outputs": [
    {
     "data": {
      "text/html": [
       "<div>\n",
       "<style scoped>\n",
       "    .dataframe tbody tr th:only-of-type {\n",
       "        vertical-align: middle;\n",
       "    }\n",
       "\n",
       "    .dataframe tbody tr th {\n",
       "        vertical-align: top;\n",
       "    }\n",
       "\n",
       "    .dataframe thead th {\n",
       "        text-align: right;\n",
       "    }\n",
       "</style>\n",
       "<table border=\"1\" class=\"dataframe\">\n",
       "  <thead>\n",
       "    <tr style=\"text-align: right;\">\n",
       "      <th></th>\n",
       "      <th>CreditScore</th>\n",
       "      <th>Age</th>\n",
       "      <th>Tenure</th>\n",
       "      <th>Balance</th>\n",
       "      <th>NumOfProducts</th>\n",
       "      <th>HasCrCard</th>\n",
       "      <th>IsActiveMember</th>\n",
       "      <th>EstimatedSalary</th>\n",
       "      <th>Exited</th>\n",
       "      <th>Geography_Germany</th>\n",
       "      <th>Geography_Spain</th>\n",
       "      <th>Gender_Male</th>\n",
       "    </tr>\n",
       "  </thead>\n",
       "  <tbody>\n",
       "    <tr>\n",
       "      <th>0</th>\n",
       "      <td>619</td>\n",
       "      <td>42</td>\n",
       "      <td>2</td>\n",
       "      <td>0.00</td>\n",
       "      <td>1</td>\n",
       "      <td>1</td>\n",
       "      <td>1</td>\n",
       "      <td>101348.88</td>\n",
       "      <td>1</td>\n",
       "      <td>False</td>\n",
       "      <td>False</td>\n",
       "      <td>False</td>\n",
       "    </tr>\n",
       "    <tr>\n",
       "      <th>1</th>\n",
       "      <td>608</td>\n",
       "      <td>41</td>\n",
       "      <td>1</td>\n",
       "      <td>83807.86</td>\n",
       "      <td>1</td>\n",
       "      <td>0</td>\n",
       "      <td>1</td>\n",
       "      <td>112542.58</td>\n",
       "      <td>0</td>\n",
       "      <td>False</td>\n",
       "      <td>True</td>\n",
       "      <td>False</td>\n",
       "    </tr>\n",
       "    <tr>\n",
       "      <th>2</th>\n",
       "      <td>502</td>\n",
       "      <td>42</td>\n",
       "      <td>8</td>\n",
       "      <td>159660.80</td>\n",
       "      <td>3</td>\n",
       "      <td>1</td>\n",
       "      <td>0</td>\n",
       "      <td>113931.57</td>\n",
       "      <td>1</td>\n",
       "      <td>False</td>\n",
       "      <td>False</td>\n",
       "      <td>False</td>\n",
       "    </tr>\n",
       "    <tr>\n",
       "      <th>3</th>\n",
       "      <td>699</td>\n",
       "      <td>39</td>\n",
       "      <td>1</td>\n",
       "      <td>0.00</td>\n",
       "      <td>2</td>\n",
       "      <td>0</td>\n",
       "      <td>0</td>\n",
       "      <td>93826.63</td>\n",
       "      <td>0</td>\n",
       "      <td>False</td>\n",
       "      <td>False</td>\n",
       "      <td>False</td>\n",
       "    </tr>\n",
       "    <tr>\n",
       "      <th>4</th>\n",
       "      <td>850</td>\n",
       "      <td>43</td>\n",
       "      <td>2</td>\n",
       "      <td>125510.82</td>\n",
       "      <td>1</td>\n",
       "      <td>1</td>\n",
       "      <td>1</td>\n",
       "      <td>79084.10</td>\n",
       "      <td>0</td>\n",
       "      <td>False</td>\n",
       "      <td>True</td>\n",
       "      <td>False</td>\n",
       "    </tr>\n",
       "  </tbody>\n",
       "</table>\n",
       "</div>"
      ],
      "text/plain": [
       "   CreditScore  Age  Tenure    Balance  NumOfProducts  HasCrCard  \\\n",
       "0          619   42       2       0.00              1          1   \n",
       "1          608   41       1   83807.86              1          0   \n",
       "2          502   42       8  159660.80              3          1   \n",
       "3          699   39       1       0.00              2          0   \n",
       "4          850   43       2  125510.82              1          1   \n",
       "\n",
       "   IsActiveMember  EstimatedSalary  Exited  Geography_Germany  \\\n",
       "0               1        101348.88       1              False   \n",
       "1               1        112542.58       0              False   \n",
       "2               0        113931.57       1              False   \n",
       "3               0         93826.63       0              False   \n",
       "4               1         79084.10       0              False   \n",
       "\n",
       "   Geography_Spain  Gender_Male  \n",
       "0            False        False  \n",
       "1             True        False  \n",
       "2            False        False  \n",
       "3            False        False  \n",
       "4             True        False  "
      ]
     },
     "execution_count": 12,
     "metadata": {},
     "output_type": "execute_result"
    }
   ],
   "source": [
    "df.head()"
   ]
  },
  {
   "cell_type": "code",
   "execution_count": 13,
   "id": "6f2ac6e7",
   "metadata": {
    "execution": {
     "iopub.execute_input": "2025-02-23T18:06:38.305807Z",
     "iopub.status.busy": "2025-02-23T18:06:38.305455Z",
     "iopub.status.idle": "2025-02-23T18:06:40.023338Z",
     "shell.execute_reply": "2025-02-23T18:06:40.022317Z"
    },
    "id": "2tf6D7qJdVT3",
    "papermill": {
     "duration": 1.729192,
     "end_time": "2025-02-23T18:06:40.025632",
     "exception": false,
     "start_time": "2025-02-23T18:06:38.296440",
     "status": "completed"
    },
    "tags": []
   },
   "outputs": [],
   "source": [
    "from sklearn.model_selection import train_test_split\n",
    "X=df.drop(columns=['Exited'])\n",
    "y=df['Exited']\n",
    "X_train,X_test,y_train,y_test = train_test_split(X,y,test_size=0.2,random_state=1)"
   ]
  },
  {
   "cell_type": "code",
   "execution_count": 14,
   "id": "2bd53c42",
   "metadata": {
    "execution": {
     "iopub.execute_input": "2025-02-23T18:06:40.042346Z",
     "iopub.status.busy": "2025-02-23T18:06:40.041732Z",
     "iopub.status.idle": "2025-02-23T18:06:40.058500Z",
     "shell.execute_reply": "2025-02-23T18:06:40.057325Z"
    },
    "id": "mYqRQi_26ylX",
    "outputId": "fdde3f5a-3cdf-4167-c847-b6e5a53d934c",
    "papermill": {
     "duration": 0.02694,
     "end_time": "2025-02-23T18:06:40.060250",
     "exception": false,
     "start_time": "2025-02-23T18:06:40.033310",
     "status": "completed"
    },
    "tags": []
   },
   "outputs": [
    {
     "data": {
      "text/html": [
       "<div>\n",
       "<style scoped>\n",
       "    .dataframe tbody tr th:only-of-type {\n",
       "        vertical-align: middle;\n",
       "    }\n",
       "\n",
       "    .dataframe tbody tr th {\n",
       "        vertical-align: top;\n",
       "    }\n",
       "\n",
       "    .dataframe thead th {\n",
       "        text-align: right;\n",
       "    }\n",
       "</style>\n",
       "<table border=\"1\" class=\"dataframe\">\n",
       "  <thead>\n",
       "    <tr style=\"text-align: right;\">\n",
       "      <th></th>\n",
       "      <th>CreditScore</th>\n",
       "      <th>Age</th>\n",
       "      <th>Tenure</th>\n",
       "      <th>Balance</th>\n",
       "      <th>NumOfProducts</th>\n",
       "      <th>HasCrCard</th>\n",
       "      <th>IsActiveMember</th>\n",
       "      <th>EstimatedSalary</th>\n",
       "      <th>Geography_Germany</th>\n",
       "      <th>Geography_Spain</th>\n",
       "      <th>Gender_Male</th>\n",
       "    </tr>\n",
       "  </thead>\n",
       "  <tbody>\n",
       "    <tr>\n",
       "      <th>0</th>\n",
       "      <td>619</td>\n",
       "      <td>42</td>\n",
       "      <td>2</td>\n",
       "      <td>0.00</td>\n",
       "      <td>1</td>\n",
       "      <td>1</td>\n",
       "      <td>1</td>\n",
       "      <td>101348.88</td>\n",
       "      <td>False</td>\n",
       "      <td>False</td>\n",
       "      <td>False</td>\n",
       "    </tr>\n",
       "    <tr>\n",
       "      <th>1</th>\n",
       "      <td>608</td>\n",
       "      <td>41</td>\n",
       "      <td>1</td>\n",
       "      <td>83807.86</td>\n",
       "      <td>1</td>\n",
       "      <td>0</td>\n",
       "      <td>1</td>\n",
       "      <td>112542.58</td>\n",
       "      <td>False</td>\n",
       "      <td>True</td>\n",
       "      <td>False</td>\n",
       "    </tr>\n",
       "    <tr>\n",
       "      <th>2</th>\n",
       "      <td>502</td>\n",
       "      <td>42</td>\n",
       "      <td>8</td>\n",
       "      <td>159660.80</td>\n",
       "      <td>3</td>\n",
       "      <td>1</td>\n",
       "      <td>0</td>\n",
       "      <td>113931.57</td>\n",
       "      <td>False</td>\n",
       "      <td>False</td>\n",
       "      <td>False</td>\n",
       "    </tr>\n",
       "    <tr>\n",
       "      <th>3</th>\n",
       "      <td>699</td>\n",
       "      <td>39</td>\n",
       "      <td>1</td>\n",
       "      <td>0.00</td>\n",
       "      <td>2</td>\n",
       "      <td>0</td>\n",
       "      <td>0</td>\n",
       "      <td>93826.63</td>\n",
       "      <td>False</td>\n",
       "      <td>False</td>\n",
       "      <td>False</td>\n",
       "    </tr>\n",
       "    <tr>\n",
       "      <th>4</th>\n",
       "      <td>850</td>\n",
       "      <td>43</td>\n",
       "      <td>2</td>\n",
       "      <td>125510.82</td>\n",
       "      <td>1</td>\n",
       "      <td>1</td>\n",
       "      <td>1</td>\n",
       "      <td>79084.10</td>\n",
       "      <td>False</td>\n",
       "      <td>True</td>\n",
       "      <td>False</td>\n",
       "    </tr>\n",
       "    <tr>\n",
       "      <th>...</th>\n",
       "      <td>...</td>\n",
       "      <td>...</td>\n",
       "      <td>...</td>\n",
       "      <td>...</td>\n",
       "      <td>...</td>\n",
       "      <td>...</td>\n",
       "      <td>...</td>\n",
       "      <td>...</td>\n",
       "      <td>...</td>\n",
       "      <td>...</td>\n",
       "      <td>...</td>\n",
       "    </tr>\n",
       "    <tr>\n",
       "      <th>9995</th>\n",
       "      <td>771</td>\n",
       "      <td>39</td>\n",
       "      <td>5</td>\n",
       "      <td>0.00</td>\n",
       "      <td>2</td>\n",
       "      <td>1</td>\n",
       "      <td>0</td>\n",
       "      <td>96270.64</td>\n",
       "      <td>False</td>\n",
       "      <td>False</td>\n",
       "      <td>True</td>\n",
       "    </tr>\n",
       "    <tr>\n",
       "      <th>9996</th>\n",
       "      <td>516</td>\n",
       "      <td>35</td>\n",
       "      <td>10</td>\n",
       "      <td>57369.61</td>\n",
       "      <td>1</td>\n",
       "      <td>1</td>\n",
       "      <td>1</td>\n",
       "      <td>101699.77</td>\n",
       "      <td>False</td>\n",
       "      <td>False</td>\n",
       "      <td>True</td>\n",
       "    </tr>\n",
       "    <tr>\n",
       "      <th>9997</th>\n",
       "      <td>709</td>\n",
       "      <td>36</td>\n",
       "      <td>7</td>\n",
       "      <td>0.00</td>\n",
       "      <td>1</td>\n",
       "      <td>0</td>\n",
       "      <td>1</td>\n",
       "      <td>42085.58</td>\n",
       "      <td>False</td>\n",
       "      <td>False</td>\n",
       "      <td>False</td>\n",
       "    </tr>\n",
       "    <tr>\n",
       "      <th>9998</th>\n",
       "      <td>772</td>\n",
       "      <td>42</td>\n",
       "      <td>3</td>\n",
       "      <td>75075.31</td>\n",
       "      <td>2</td>\n",
       "      <td>1</td>\n",
       "      <td>0</td>\n",
       "      <td>92888.52</td>\n",
       "      <td>True</td>\n",
       "      <td>False</td>\n",
       "      <td>True</td>\n",
       "    </tr>\n",
       "    <tr>\n",
       "      <th>9999</th>\n",
       "      <td>792</td>\n",
       "      <td>28</td>\n",
       "      <td>4</td>\n",
       "      <td>130142.79</td>\n",
       "      <td>1</td>\n",
       "      <td>1</td>\n",
       "      <td>0</td>\n",
       "      <td>38190.78</td>\n",
       "      <td>False</td>\n",
       "      <td>False</td>\n",
       "      <td>False</td>\n",
       "    </tr>\n",
       "  </tbody>\n",
       "</table>\n",
       "<p>10000 rows × 11 columns</p>\n",
       "</div>"
      ],
      "text/plain": [
       "      CreditScore  Age  Tenure    Balance  NumOfProducts  HasCrCard  \\\n",
       "0             619   42       2       0.00              1          1   \n",
       "1             608   41       1   83807.86              1          0   \n",
       "2             502   42       8  159660.80              3          1   \n",
       "3             699   39       1       0.00              2          0   \n",
       "4             850   43       2  125510.82              1          1   \n",
       "...           ...  ...     ...        ...            ...        ...   \n",
       "9995          771   39       5       0.00              2          1   \n",
       "9996          516   35      10   57369.61              1          1   \n",
       "9997          709   36       7       0.00              1          0   \n",
       "9998          772   42       3   75075.31              2          1   \n",
       "9999          792   28       4  130142.79              1          1   \n",
       "\n",
       "      IsActiveMember  EstimatedSalary  Geography_Germany  Geography_Spain  \\\n",
       "0                  1        101348.88              False            False   \n",
       "1                  1        112542.58              False             True   \n",
       "2                  0        113931.57              False            False   \n",
       "3                  0         93826.63              False            False   \n",
       "4                  1         79084.10              False             True   \n",
       "...              ...              ...                ...              ...   \n",
       "9995               0         96270.64              False            False   \n",
       "9996               1        101699.77              False            False   \n",
       "9997               1         42085.58              False            False   \n",
       "9998               0         92888.52               True            False   \n",
       "9999               0         38190.78              False            False   \n",
       "\n",
       "      Gender_Male  \n",
       "0           False  \n",
       "1           False  \n",
       "2           False  \n",
       "3           False  \n",
       "4           False  \n",
       "...           ...  \n",
       "9995         True  \n",
       "9996         True  \n",
       "9997        False  \n",
       "9998         True  \n",
       "9999        False  \n",
       "\n",
       "[10000 rows x 11 columns]"
      ]
     },
     "execution_count": 14,
     "metadata": {},
     "output_type": "execute_result"
    }
   ],
   "source": [
    "X"
   ]
  },
  {
   "cell_type": "code",
   "execution_count": 15,
   "id": "fb870355",
   "metadata": {
    "execution": {
     "iopub.execute_input": "2025-02-23T18:06:40.077501Z",
     "iopub.status.busy": "2025-02-23T18:06:40.077137Z",
     "iopub.status.idle": "2025-02-23T18:06:40.085377Z",
     "shell.execute_reply": "2025-02-23T18:06:40.084153Z"
    },
    "id": "WXwWk1Oz630L",
    "outputId": "8aedc811-10b0-47f1-e17a-3fac1447335f",
    "papermill": {
     "duration": 0.018922,
     "end_time": "2025-02-23T18:06:40.087297",
     "exception": false,
     "start_time": "2025-02-23T18:06:40.068375",
     "status": "completed"
    },
    "tags": []
   },
   "outputs": [
    {
     "data": {
      "text/plain": [
       "0       1\n",
       "1       0\n",
       "2       1\n",
       "3       0\n",
       "4       0\n",
       "       ..\n",
       "9995    0\n",
       "9996    0\n",
       "9997    1\n",
       "9998    1\n",
       "9999    0\n",
       "Name: Exited, Length: 10000, dtype: int64"
      ]
     },
     "execution_count": 15,
     "metadata": {},
     "output_type": "execute_result"
    }
   ],
   "source": [
    "y"
   ]
  },
  {
   "cell_type": "code",
   "execution_count": 16,
   "id": "c638319b",
   "metadata": {
    "execution": {
     "iopub.execute_input": "2025-02-23T18:06:40.104747Z",
     "iopub.status.busy": "2025-02-23T18:06:40.104365Z",
     "iopub.status.idle": "2025-02-23T18:06:40.155938Z",
     "shell.execute_reply": "2025-02-23T18:06:40.154892Z"
    },
    "id": "eHYg2SGG65mJ",
    "papermill": {
     "duration": 0.062545,
     "end_time": "2025-02-23T18:06:40.157953",
     "exception": false,
     "start_time": "2025-02-23T18:06:40.095408",
     "status": "completed"
    },
    "tags": []
   },
   "outputs": [],
   "source": [
    "from sklearn.preprocessing import StandardScaler\n",
    "scaler=StandardScaler()\n",
    "X_train_scaled=scaler.fit_transform(X_train)\n",
    "X_test_scaled = scaler.transform(X_test)"
   ]
  },
  {
   "cell_type": "code",
   "execution_count": 17,
   "id": "7ca1b961",
   "metadata": {
    "execution": {
     "iopub.execute_input": "2025-02-23T18:06:40.175287Z",
     "iopub.status.busy": "2025-02-23T18:06:40.174863Z",
     "iopub.status.idle": "2025-02-23T18:06:56.973421Z",
     "shell.execute_reply": "2025-02-23T18:06:56.972188Z"
    },
    "id": "7p377Sti7cRB",
    "papermill": {
     "duration": 16.809357,
     "end_time": "2025-02-23T18:06:56.975564",
     "exception": false,
     "start_time": "2025-02-23T18:06:40.166207",
     "status": "completed"
    },
    "tags": []
   },
   "outputs": [],
   "source": [
    "import tensorflow\n",
    "from tensorflow import keras\n",
    "from tensorflow.keras import Sequential\n",
    "from tensorflow.keras.layers import Dense"
   ]
  },
  {
   "cell_type": "code",
   "execution_count": 18,
   "id": "329db5d5",
   "metadata": {
    "execution": {
     "iopub.execute_input": "2025-02-23T18:06:56.993862Z",
     "iopub.status.busy": "2025-02-23T18:06:56.993156Z",
     "iopub.status.idle": "2025-02-23T18:06:57.094703Z",
     "shell.execute_reply": "2025-02-23T18:06:57.093356Z"
    },
    "id": "uI7WY2PL8Rz9",
    "outputId": "544a9d3a-eb60-414f-dc79-7d60f5295999",
    "papermill": {
     "duration": 0.112321,
     "end_time": "2025-02-23T18:06:57.096636",
     "exception": false,
     "start_time": "2025-02-23T18:06:56.984315",
     "status": "completed"
    },
    "tags": []
   },
   "outputs": [
    {
     "name": "stderr",
     "output_type": "stream",
     "text": [
      "/usr/local/lib/python3.10/dist-packages/keras/src/layers/core/dense.py:87: UserWarning: Do not pass an `input_shape`/`input_dim` argument to a layer. When using Sequential models, prefer using an `Input(shape)` object as the first layer in the model instead.\n",
      "  super().__init__(activity_regularizer=activity_regularizer, **kwargs)\n"
     ]
    }
   ],
   "source": [
    "model = Sequential()\n",
    "model.add(Dense(11,activation='relu',input_dim=11))\n",
    "model.add(Dense(11,activation='relu'))\n",
    "model.add(Dense(1,activation='sigmoid'))\n"
   ]
  },
  {
   "cell_type": "code",
   "execution_count": 19,
   "id": "257fcf9e",
   "metadata": {
    "execution": {
     "iopub.execute_input": "2025-02-23T18:06:57.115260Z",
     "iopub.status.busy": "2025-02-23T18:06:57.114836Z",
     "iopub.status.idle": "2025-02-23T18:06:57.134488Z",
     "shell.execute_reply": "2025-02-23T18:06:57.133293Z"
    },
    "id": "lGmp6rxp8uO7",
    "outputId": "fbd522a3-7c64-4448-92e9-b9d2ab0c92da",
    "papermill": {
     "duration": 0.031737,
     "end_time": "2025-02-23T18:06:57.136526",
     "exception": false,
     "start_time": "2025-02-23T18:06:57.104789",
     "status": "completed"
    },
    "tags": []
   },
   "outputs": [
    {
     "data": {
      "text/html": [
       "<pre style=\"white-space:pre;overflow-x:auto;line-height:normal;font-family:Menlo,'DejaVu Sans Mono',consolas,'Courier New',monospace\"><span style=\"font-weight: bold\">Model: \"sequential\"</span>\n",
       "</pre>\n"
      ],
      "text/plain": [
       "\u001b[1mModel: \"sequential\"\u001b[0m\n"
      ]
     },
     "metadata": {},
     "output_type": "display_data"
    },
    {
     "data": {
      "text/html": [
       "<pre style=\"white-space:pre;overflow-x:auto;line-height:normal;font-family:Menlo,'DejaVu Sans Mono',consolas,'Courier New',monospace\">┏━━━━━━━━━━━━━━━━━━━━━━━━━━━━━━━━━━━━━━┳━━━━━━━━━━━━━━━━━━━━━━━━━━━━━┳━━━━━━━━━━━━━━━━━┓\n",
       "┃<span style=\"font-weight: bold\"> Layer (type)                         </span>┃<span style=\"font-weight: bold\"> Output Shape                </span>┃<span style=\"font-weight: bold\">         Param # </span>┃\n",
       "┡━━━━━━━━━━━━━━━━━━━━━━━━━━━━━━━━━━━━━━╇━━━━━━━━━━━━━━━━━━━━━━━━━━━━━╇━━━━━━━━━━━━━━━━━┩\n",
       "│ dense (<span style=\"color: #0087ff; text-decoration-color: #0087ff\">Dense</span>)                        │ (<span style=\"color: #00d7ff; text-decoration-color: #00d7ff\">None</span>, <span style=\"color: #00af00; text-decoration-color: #00af00\">11</span>)                  │             <span style=\"color: #00af00; text-decoration-color: #00af00\">132</span> │\n",
       "├──────────────────────────────────────┼─────────────────────────────┼─────────────────┤\n",
       "│ dense_1 (<span style=\"color: #0087ff; text-decoration-color: #0087ff\">Dense</span>)                      │ (<span style=\"color: #00d7ff; text-decoration-color: #00d7ff\">None</span>, <span style=\"color: #00af00; text-decoration-color: #00af00\">11</span>)                  │             <span style=\"color: #00af00; text-decoration-color: #00af00\">132</span> │\n",
       "├──────────────────────────────────────┼─────────────────────────────┼─────────────────┤\n",
       "│ dense_2 (<span style=\"color: #0087ff; text-decoration-color: #0087ff\">Dense</span>)                      │ (<span style=\"color: #00d7ff; text-decoration-color: #00d7ff\">None</span>, <span style=\"color: #00af00; text-decoration-color: #00af00\">1</span>)                   │              <span style=\"color: #00af00; text-decoration-color: #00af00\">12</span> │\n",
       "└──────────────────────────────────────┴─────────────────────────────┴─────────────────┘\n",
       "</pre>\n"
      ],
      "text/plain": [
       "┏━━━━━━━━━━━━━━━━━━━━━━━━━━━━━━━━━━━━━━┳━━━━━━━━━━━━━━━━━━━━━━━━━━━━━┳━━━━━━━━━━━━━━━━━┓\n",
       "┃\u001b[1m \u001b[0m\u001b[1mLayer (type)                        \u001b[0m\u001b[1m \u001b[0m┃\u001b[1m \u001b[0m\u001b[1mOutput Shape               \u001b[0m\u001b[1m \u001b[0m┃\u001b[1m \u001b[0m\u001b[1m        Param #\u001b[0m\u001b[1m \u001b[0m┃\n",
       "┡━━━━━━━━━━━━━━━━━━━━━━━━━━━━━━━━━━━━━━╇━━━━━━━━━━━━━━━━━━━━━━━━━━━━━╇━━━━━━━━━━━━━━━━━┩\n",
       "│ dense (\u001b[38;5;33mDense\u001b[0m)                        │ (\u001b[38;5;45mNone\u001b[0m, \u001b[38;5;34m11\u001b[0m)                  │             \u001b[38;5;34m132\u001b[0m │\n",
       "├──────────────────────────────────────┼─────────────────────────────┼─────────────────┤\n",
       "│ dense_1 (\u001b[38;5;33mDense\u001b[0m)                      │ (\u001b[38;5;45mNone\u001b[0m, \u001b[38;5;34m11\u001b[0m)                  │             \u001b[38;5;34m132\u001b[0m │\n",
       "├──────────────────────────────────────┼─────────────────────────────┼─────────────────┤\n",
       "│ dense_2 (\u001b[38;5;33mDense\u001b[0m)                      │ (\u001b[38;5;45mNone\u001b[0m, \u001b[38;5;34m1\u001b[0m)                   │              \u001b[38;5;34m12\u001b[0m │\n",
       "└──────────────────────────────────────┴─────────────────────────────┴─────────────────┘\n"
      ]
     },
     "metadata": {},
     "output_type": "display_data"
    },
    {
     "data": {
      "text/html": [
       "<pre style=\"white-space:pre;overflow-x:auto;line-height:normal;font-family:Menlo,'DejaVu Sans Mono',consolas,'Courier New',monospace\"><span style=\"font-weight: bold\"> Total params: </span><span style=\"color: #00af00; text-decoration-color: #00af00\">276</span> (1.08 KB)\n",
       "</pre>\n"
      ],
      "text/plain": [
       "\u001b[1m Total params: \u001b[0m\u001b[38;5;34m276\u001b[0m (1.08 KB)\n"
      ]
     },
     "metadata": {},
     "output_type": "display_data"
    },
    {
     "data": {
      "text/html": [
       "<pre style=\"white-space:pre;overflow-x:auto;line-height:normal;font-family:Menlo,'DejaVu Sans Mono',consolas,'Courier New',monospace\"><span style=\"font-weight: bold\"> Trainable params: </span><span style=\"color: #00af00; text-decoration-color: #00af00\">276</span> (1.08 KB)\n",
       "</pre>\n"
      ],
      "text/plain": [
       "\u001b[1m Trainable params: \u001b[0m\u001b[38;5;34m276\u001b[0m (1.08 KB)\n"
      ]
     },
     "metadata": {},
     "output_type": "display_data"
    },
    {
     "data": {
      "text/html": [
       "<pre style=\"white-space:pre;overflow-x:auto;line-height:normal;font-family:Menlo,'DejaVu Sans Mono',consolas,'Courier New',monospace\"><span style=\"font-weight: bold\"> Non-trainable params: </span><span style=\"color: #00af00; text-decoration-color: #00af00\">0</span> (0.00 B)\n",
       "</pre>\n"
      ],
      "text/plain": [
       "\u001b[1m Non-trainable params: \u001b[0m\u001b[38;5;34m0\u001b[0m (0.00 B)\n"
      ]
     },
     "metadata": {},
     "output_type": "display_data"
    }
   ],
   "source": [
    "model.summary()"
   ]
  },
  {
   "cell_type": "code",
   "execution_count": 20,
   "id": "2d71d8d2",
   "metadata": {
    "execution": {
     "iopub.execute_input": "2025-02-23T18:06:57.156459Z",
     "iopub.status.busy": "2025-02-23T18:06:57.156092Z",
     "iopub.status.idle": "2025-02-23T18:06:57.172215Z",
     "shell.execute_reply": "2025-02-23T18:06:57.170958Z"
    },
    "id": "6HLol9je8wzf",
    "papermill": {
     "duration": 0.02807,
     "end_time": "2025-02-23T18:06:57.174276",
     "exception": false,
     "start_time": "2025-02-23T18:06:57.146206",
     "status": "completed"
    },
    "tags": []
   },
   "outputs": [],
   "source": [
    "model.compile(loss='binary_crossentropy',optimizer='Adam',metrics=['accuracy'])"
   ]
  },
  {
   "cell_type": "code",
   "execution_count": 21,
   "id": "03874531",
   "metadata": {
    "execution": {
     "iopub.execute_input": "2025-02-23T18:06:57.193589Z",
     "iopub.status.busy": "2025-02-23T18:06:57.193231Z",
     "iopub.status.idle": "2025-02-23T18:07:40.015657Z",
     "shell.execute_reply": "2025-02-23T18:07:40.014616Z"
    },
    "id": "1u87lkLR9WcO",
    "outputId": "6f8780c2-3293-4c47-b548-a0bd9dbdcfaf",
    "papermill": {
     "duration": 42.834518,
     "end_time": "2025-02-23T18:07:40.017656",
     "exception": false,
     "start_time": "2025-02-23T18:06:57.183138",
     "status": "completed"
    },
    "tags": []
   },
   "outputs": [
    {
     "name": "stdout",
     "output_type": "stream",
     "text": [
      "Epoch 1/100\n",
      "\u001b[1m200/200\u001b[0m \u001b[32m━━━━━━━━━━━━━━━━━━━━\u001b[0m\u001b[37m\u001b[0m \u001b[1m2s\u001b[0m 3ms/step - accuracy: 0.6333 - loss: 0.6293 - val_accuracy: 0.8056 - val_loss: 0.4837\n",
      "Epoch 2/100\n",
      "\u001b[1m200/200\u001b[0m \u001b[32m━━━━━━━━━━━━━━━━━━━━\u001b[0m\u001b[37m\u001b[0m \u001b[1m0s\u001b[0m 2ms/step - accuracy: 0.8127 - loss: 0.4758 - val_accuracy: 0.8188 - val_loss: 0.4368\n",
      "Epoch 3/100\n",
      "\u001b[1m200/200\u001b[0m \u001b[32m━━━━━━━━━━━━━━━━━━━━\u001b[0m\u001b[37m\u001b[0m \u001b[1m0s\u001b[0m 2ms/step - accuracy: 0.8237 - loss: 0.4247 - val_accuracy: 0.8206 - val_loss: 0.4185\n",
      "Epoch 4/100\n",
      "\u001b[1m200/200\u001b[0m \u001b[32m━━━━━━━━━━━━━━━━━━━━\u001b[0m\u001b[37m\u001b[0m \u001b[1m0s\u001b[0m 2ms/step - accuracy: 0.8415 - loss: 0.3973 - val_accuracy: 0.8288 - val_loss: 0.4042\n",
      "Epoch 5/100\n",
      "\u001b[1m200/200\u001b[0m \u001b[32m━━━━━━━━━━━━━━━━━━━━\u001b[0m\u001b[37m\u001b[0m \u001b[1m0s\u001b[0m 2ms/step - accuracy: 0.8327 - loss: 0.3989 - val_accuracy: 0.8344 - val_loss: 0.3907\n",
      "Epoch 6/100\n",
      "\u001b[1m200/200\u001b[0m \u001b[32m━━━━━━━━━━━━━━━━━━━━\u001b[0m\u001b[37m\u001b[0m \u001b[1m0s\u001b[0m 2ms/step - accuracy: 0.8348 - loss: 0.3925 - val_accuracy: 0.8381 - val_loss: 0.3830\n",
      "Epoch 7/100\n",
      "\u001b[1m200/200\u001b[0m \u001b[32m━━━━━━━━━━━━━━━━━━━━\u001b[0m\u001b[37m\u001b[0m \u001b[1m0s\u001b[0m 2ms/step - accuracy: 0.8452 - loss: 0.3783 - val_accuracy: 0.8419 - val_loss: 0.3771\n",
      "Epoch 8/100\n",
      "\u001b[1m200/200\u001b[0m \u001b[32m━━━━━━━━━━━━━━━━━━━━\u001b[0m\u001b[37m\u001b[0m \u001b[1m0s\u001b[0m 2ms/step - accuracy: 0.8434 - loss: 0.3734 - val_accuracy: 0.8419 - val_loss: 0.3705\n",
      "Epoch 9/100\n",
      "\u001b[1m200/200\u001b[0m \u001b[32m━━━━━━━━━━━━━━━━━━━━\u001b[0m\u001b[37m\u001b[0m \u001b[1m0s\u001b[0m 2ms/step - accuracy: 0.8408 - loss: 0.3772 - val_accuracy: 0.8444 - val_loss: 0.3680\n",
      "Epoch 10/100\n",
      "\u001b[1m200/200\u001b[0m \u001b[32m━━━━━━━━━━━━━━━━━━━━\u001b[0m\u001b[37m\u001b[0m \u001b[1m0s\u001b[0m 2ms/step - accuracy: 0.8619 - loss: 0.3457 - val_accuracy: 0.8450 - val_loss: 0.3634\n",
      "Epoch 11/100\n",
      "\u001b[1m200/200\u001b[0m \u001b[32m━━━━━━━━━━━━━━━━━━━━\u001b[0m\u001b[37m\u001b[0m \u001b[1m0s\u001b[0m 2ms/step - accuracy: 0.8525 - loss: 0.3615 - val_accuracy: 0.8475 - val_loss: 0.3594\n",
      "Epoch 12/100\n",
      "\u001b[1m200/200\u001b[0m \u001b[32m━━━━━━━━━━━━━━━━━━━━\u001b[0m\u001b[37m\u001b[0m \u001b[1m0s\u001b[0m 2ms/step - accuracy: 0.8483 - loss: 0.3628 - val_accuracy: 0.8481 - val_loss: 0.3591\n",
      "Epoch 13/100\n",
      "\u001b[1m200/200\u001b[0m \u001b[32m━━━━━━━━━━━━━━━━━━━━\u001b[0m\u001b[37m\u001b[0m \u001b[1m0s\u001b[0m 2ms/step - accuracy: 0.8614 - loss: 0.3396 - val_accuracy: 0.8481 - val_loss: 0.3590\n",
      "Epoch 14/100\n",
      "\u001b[1m200/200\u001b[0m \u001b[32m━━━━━━━━━━━━━━━━━━━━\u001b[0m\u001b[37m\u001b[0m \u001b[1m0s\u001b[0m 2ms/step - accuracy: 0.8550 - loss: 0.3556 - val_accuracy: 0.8462 - val_loss: 0.3552\n",
      "Epoch 15/100\n",
      "\u001b[1m200/200\u001b[0m \u001b[32m━━━━━━━━━━━━━━━━━━━━\u001b[0m\u001b[37m\u001b[0m \u001b[1m0s\u001b[0m 2ms/step - accuracy: 0.8615 - loss: 0.3445 - val_accuracy: 0.8487 - val_loss: 0.3538\n",
      "Epoch 16/100\n",
      "\u001b[1m200/200\u001b[0m \u001b[32m━━━━━━━━━━━━━━━━━━━━\u001b[0m\u001b[37m\u001b[0m \u001b[1m0s\u001b[0m 2ms/step - accuracy: 0.8671 - loss: 0.3352 - val_accuracy: 0.8469 - val_loss: 0.3547\n",
      "Epoch 17/100\n",
      "\u001b[1m200/200\u001b[0m \u001b[32m━━━━━━━━━━━━━━━━━━━━\u001b[0m\u001b[37m\u001b[0m \u001b[1m0s\u001b[0m 2ms/step - accuracy: 0.8664 - loss: 0.3357 - val_accuracy: 0.8475 - val_loss: 0.3523\n",
      "Epoch 18/100\n",
      "\u001b[1m200/200\u001b[0m \u001b[32m━━━━━━━━━━━━━━━━━━━━\u001b[0m\u001b[37m\u001b[0m \u001b[1m1s\u001b[0m 2ms/step - accuracy: 0.8641 - loss: 0.3348 - val_accuracy: 0.8462 - val_loss: 0.3503\n",
      "Epoch 19/100\n",
      "\u001b[1m200/200\u001b[0m \u001b[32m━━━━━━━━━━━━━━━━━━━━\u001b[0m\u001b[37m\u001b[0m \u001b[1m0s\u001b[0m 2ms/step - accuracy: 0.8652 - loss: 0.3378 - val_accuracy: 0.8494 - val_loss: 0.3501\n",
      "Epoch 20/100\n",
      "\u001b[1m200/200\u001b[0m \u001b[32m━━━━━━━━━━━━━━━━━━━━\u001b[0m\u001b[37m\u001b[0m \u001b[1m0s\u001b[0m 2ms/step - accuracy: 0.8587 - loss: 0.3363 - val_accuracy: 0.8481 - val_loss: 0.3507\n",
      "Epoch 21/100\n",
      "\u001b[1m200/200\u001b[0m \u001b[32m━━━━━━━━━━━━━━━━━━━━\u001b[0m\u001b[37m\u001b[0m \u001b[1m0s\u001b[0m 2ms/step - accuracy: 0.8671 - loss: 0.3315 - val_accuracy: 0.8481 - val_loss: 0.3492\n",
      "Epoch 22/100\n",
      "\u001b[1m200/200\u001b[0m \u001b[32m━━━━━━━━━━━━━━━━━━━━\u001b[0m\u001b[37m\u001b[0m \u001b[1m0s\u001b[0m 2ms/step - accuracy: 0.8565 - loss: 0.3450 - val_accuracy: 0.8512 - val_loss: 0.3476\n",
      "Epoch 23/100\n",
      "\u001b[1m200/200\u001b[0m \u001b[32m━━━━━━━━━━━━━━━━━━━━\u001b[0m\u001b[37m\u001b[0m \u001b[1m0s\u001b[0m 2ms/step - accuracy: 0.8638 - loss: 0.3359 - val_accuracy: 0.8494 - val_loss: 0.3492\n",
      "Epoch 24/100\n",
      "\u001b[1m200/200\u001b[0m \u001b[32m━━━━━━━━━━━━━━━━━━━━\u001b[0m\u001b[37m\u001b[0m \u001b[1m0s\u001b[0m 2ms/step - accuracy: 0.8639 - loss: 0.3330 - val_accuracy: 0.8487 - val_loss: 0.3494\n",
      "Epoch 25/100\n",
      "\u001b[1m200/200\u001b[0m \u001b[32m━━━━━━━━━━━━━━━━━━━━\u001b[0m\u001b[37m\u001b[0m \u001b[1m0s\u001b[0m 2ms/step - accuracy: 0.8663 - loss: 0.3355 - val_accuracy: 0.8481 - val_loss: 0.3476\n",
      "Epoch 26/100\n",
      "\u001b[1m200/200\u001b[0m \u001b[32m━━━━━━━━━━━━━━━━━━━━\u001b[0m\u001b[37m\u001b[0m \u001b[1m0s\u001b[0m 2ms/step - accuracy: 0.8718 - loss: 0.3262 - val_accuracy: 0.8531 - val_loss: 0.3483\n",
      "Epoch 27/100\n",
      "\u001b[1m200/200\u001b[0m \u001b[32m━━━━━━━━━━━━━━━━━━━━\u001b[0m\u001b[37m\u001b[0m \u001b[1m0s\u001b[0m 2ms/step - accuracy: 0.8673 - loss: 0.3255 - val_accuracy: 0.8500 - val_loss: 0.3473\n",
      "Epoch 28/100\n",
      "\u001b[1m200/200\u001b[0m \u001b[32m━━━━━━━━━━━━━━━━━━━━\u001b[0m\u001b[37m\u001b[0m \u001b[1m0s\u001b[0m 2ms/step - accuracy: 0.8610 - loss: 0.3355 - val_accuracy: 0.8475 - val_loss: 0.3485\n",
      "Epoch 29/100\n",
      "\u001b[1m200/200\u001b[0m \u001b[32m━━━━━━━━━━━━━━━━━━━━\u001b[0m\u001b[37m\u001b[0m \u001b[1m0s\u001b[0m 2ms/step - accuracy: 0.8619 - loss: 0.3362 - val_accuracy: 0.8531 - val_loss: 0.3462\n",
      "Epoch 30/100\n",
      "\u001b[1m200/200\u001b[0m \u001b[32m━━━━━━━━━━━━━━━━━━━━\u001b[0m\u001b[37m\u001b[0m \u001b[1m0s\u001b[0m 2ms/step - accuracy: 0.8605 - loss: 0.3365 - val_accuracy: 0.8531 - val_loss: 0.3460\n",
      "Epoch 31/100\n",
      "\u001b[1m200/200\u001b[0m \u001b[32m━━━━━━━━━━━━━━━━━━━━\u001b[0m\u001b[37m\u001b[0m \u001b[1m0s\u001b[0m 2ms/step - accuracy: 0.8629 - loss: 0.3278 - val_accuracy: 0.8481 - val_loss: 0.3469\n",
      "Epoch 32/100\n",
      "\u001b[1m200/200\u001b[0m \u001b[32m━━━━━━━━━━━━━━━━━━━━\u001b[0m\u001b[37m\u001b[0m \u001b[1m0s\u001b[0m 2ms/step - accuracy: 0.8603 - loss: 0.3373 - val_accuracy: 0.8494 - val_loss: 0.3457\n",
      "Epoch 33/100\n",
      "\u001b[1m200/200\u001b[0m \u001b[32m━━━━━━━━━━━━━━━━━━━━\u001b[0m\u001b[37m\u001b[0m \u001b[1m0s\u001b[0m 2ms/step - accuracy: 0.8576 - loss: 0.3420 - val_accuracy: 0.8481 - val_loss: 0.3471\n",
      "Epoch 34/100\n",
      "\u001b[1m200/200\u001b[0m \u001b[32m━━━━━━━━━━━━━━━━━━━━\u001b[0m\u001b[37m\u001b[0m \u001b[1m0s\u001b[0m 2ms/step - accuracy: 0.8611 - loss: 0.3363 - val_accuracy: 0.8475 - val_loss: 0.3512\n",
      "Epoch 35/100\n",
      "\u001b[1m200/200\u001b[0m \u001b[32m━━━━━━━━━━━━━━━━━━━━\u001b[0m\u001b[37m\u001b[0m \u001b[1m0s\u001b[0m 2ms/step - accuracy: 0.8634 - loss: 0.3308 - val_accuracy: 0.8525 - val_loss: 0.3465\n",
      "Epoch 36/100\n",
      "\u001b[1m200/200\u001b[0m \u001b[32m━━━━━━━━━━━━━━━━━━━━\u001b[0m\u001b[37m\u001b[0m \u001b[1m0s\u001b[0m 2ms/step - accuracy: 0.8683 - loss: 0.3259 - val_accuracy: 0.8500 - val_loss: 0.3477\n",
      "Epoch 37/100\n",
      "\u001b[1m200/200\u001b[0m \u001b[32m━━━━━━━━━━━━━━━━━━━━\u001b[0m\u001b[37m\u001b[0m \u001b[1m0s\u001b[0m 2ms/step - accuracy: 0.8611 - loss: 0.3292 - val_accuracy: 0.8494 - val_loss: 0.3469\n",
      "Epoch 38/100\n",
      "\u001b[1m200/200\u001b[0m \u001b[32m━━━━━━━━━━━━━━━━━━━━\u001b[0m\u001b[37m\u001b[0m \u001b[1m0s\u001b[0m 2ms/step - accuracy: 0.8706 - loss: 0.3217 - val_accuracy: 0.8531 - val_loss: 0.3459\n",
      "Epoch 39/100\n",
      "\u001b[1m200/200\u001b[0m \u001b[32m━━━━━━━━━━━━━━━━━━━━\u001b[0m\u001b[37m\u001b[0m \u001b[1m0s\u001b[0m 2ms/step - accuracy: 0.8699 - loss: 0.3284 - val_accuracy: 0.8481 - val_loss: 0.3468\n",
      "Epoch 40/100\n",
      "\u001b[1m200/200\u001b[0m \u001b[32m━━━━━━━━━━━━━━━━━━━━\u001b[0m\u001b[37m\u001b[0m \u001b[1m0s\u001b[0m 2ms/step - accuracy: 0.8607 - loss: 0.3369 - val_accuracy: 0.8519 - val_loss: 0.3479\n",
      "Epoch 41/100\n",
      "\u001b[1m200/200\u001b[0m \u001b[32m━━━━━━━━━━━━━━━━━━━━\u001b[0m\u001b[37m\u001b[0m \u001b[1m0s\u001b[0m 2ms/step - accuracy: 0.8595 - loss: 0.3367 - val_accuracy: 0.8519 - val_loss: 0.3464\n",
      "Epoch 42/100\n",
      "\u001b[1m200/200\u001b[0m \u001b[32m━━━━━━━━━━━━━━━━━━━━\u001b[0m\u001b[37m\u001b[0m \u001b[1m0s\u001b[0m 2ms/step - accuracy: 0.8645 - loss: 0.3275 - val_accuracy: 0.8519 - val_loss: 0.3475\n",
      "Epoch 43/100\n",
      "\u001b[1m200/200\u001b[0m \u001b[32m━━━━━━━━━━━━━━━━━━━━\u001b[0m\u001b[37m\u001b[0m \u001b[1m0s\u001b[0m 2ms/step - accuracy: 0.8627 - loss: 0.3283 - val_accuracy: 0.8462 - val_loss: 0.3497\n",
      "Epoch 44/100\n",
      "\u001b[1m200/200\u001b[0m \u001b[32m━━━━━━━━━━━━━━━━━━━━\u001b[0m\u001b[37m\u001b[0m \u001b[1m0s\u001b[0m 2ms/step - accuracy: 0.8674 - loss: 0.3349 - val_accuracy: 0.8537 - val_loss: 0.3456\n",
      "Epoch 45/100\n",
      "\u001b[1m200/200\u001b[0m \u001b[32m━━━━━━━━━━━━━━━━━━━━\u001b[0m\u001b[37m\u001b[0m \u001b[1m0s\u001b[0m 2ms/step - accuracy: 0.8580 - loss: 0.3321 - val_accuracy: 0.8512 - val_loss: 0.3470\n",
      "Epoch 46/100\n",
      "\u001b[1m200/200\u001b[0m \u001b[32m━━━━━━━━━━━━━━━━━━━━\u001b[0m\u001b[37m\u001b[0m \u001b[1m0s\u001b[0m 2ms/step - accuracy: 0.8585 - loss: 0.3389 - val_accuracy: 0.8481 - val_loss: 0.3485\n",
      "Epoch 47/100\n",
      "\u001b[1m200/200\u001b[0m \u001b[32m━━━━━━━━━━━━━━━━━━━━\u001b[0m\u001b[37m\u001b[0m \u001b[1m0s\u001b[0m 2ms/step - accuracy: 0.8652 - loss: 0.3256 - val_accuracy: 0.8500 - val_loss: 0.3475\n",
      "Epoch 48/100\n",
      "\u001b[1m200/200\u001b[0m \u001b[32m━━━━━━━━━━━━━━━━━━━━\u001b[0m\u001b[37m\u001b[0m \u001b[1m0s\u001b[0m 2ms/step - accuracy: 0.8677 - loss: 0.3276 - val_accuracy: 0.8525 - val_loss: 0.3466\n",
      "Epoch 49/100\n",
      "\u001b[1m200/200\u001b[0m \u001b[32m━━━━━━━━━━━━━━━━━━━━\u001b[0m\u001b[37m\u001b[0m \u001b[1m0s\u001b[0m 2ms/step - accuracy: 0.8648 - loss: 0.3217 - val_accuracy: 0.8506 - val_loss: 0.3470\n",
      "Epoch 50/100\n",
      "\u001b[1m200/200\u001b[0m \u001b[32m━━━━━━━━━━━━━━━━━━━━\u001b[0m\u001b[37m\u001b[0m \u001b[1m0s\u001b[0m 2ms/step - accuracy: 0.8631 - loss: 0.3326 - val_accuracy: 0.8531 - val_loss: 0.3465\n",
      "Epoch 51/100\n",
      "\u001b[1m200/200\u001b[0m \u001b[32m━━━━━━━━━━━━━━━━━━━━\u001b[0m\u001b[37m\u001b[0m \u001b[1m0s\u001b[0m 2ms/step - accuracy: 0.8633 - loss: 0.3346 - val_accuracy: 0.8494 - val_loss: 0.3468\n",
      "Epoch 52/100\n",
      "\u001b[1m200/200\u001b[0m \u001b[32m━━━━━━━━━━━━━━━━━━━━\u001b[0m\u001b[37m\u001b[0m \u001b[1m0s\u001b[0m 2ms/step - accuracy: 0.8609 - loss: 0.3294 - val_accuracy: 0.8525 - val_loss: 0.3452\n",
      "Epoch 53/100\n",
      "\u001b[1m200/200\u001b[0m \u001b[32m━━━━━━━━━━━━━━━━━━━━\u001b[0m\u001b[37m\u001b[0m \u001b[1m0s\u001b[0m 2ms/step - accuracy: 0.8596 - loss: 0.3323 - val_accuracy: 0.8512 - val_loss: 0.3463\n",
      "Epoch 54/100\n",
      "\u001b[1m200/200\u001b[0m \u001b[32m━━━━━━━━━━━━━━━━━━━━\u001b[0m\u001b[37m\u001b[0m \u001b[1m0s\u001b[0m 2ms/step - accuracy: 0.8664 - loss: 0.3266 - val_accuracy: 0.8494 - val_loss: 0.3492\n",
      "Epoch 55/100\n",
      "\u001b[1m200/200\u001b[0m \u001b[32m━━━━━━━━━━━━━━━━━━━━\u001b[0m\u001b[37m\u001b[0m \u001b[1m0s\u001b[0m 2ms/step - accuracy: 0.8662 - loss: 0.3228 - val_accuracy: 0.8500 - val_loss: 0.3466\n",
      "Epoch 56/100\n",
      "\u001b[1m200/200\u001b[0m \u001b[32m━━━━━━━━━━━━━━━━━━━━\u001b[0m\u001b[37m\u001b[0m \u001b[1m0s\u001b[0m 2ms/step - accuracy: 0.8663 - loss: 0.3304 - val_accuracy: 0.8487 - val_loss: 0.3475\n",
      "Epoch 57/100\n",
      "\u001b[1m200/200\u001b[0m \u001b[32m━━━━━━━━━━━━━━━━━━━━\u001b[0m\u001b[37m\u001b[0m \u001b[1m0s\u001b[0m 2ms/step - accuracy: 0.8636 - loss: 0.3195 - val_accuracy: 0.8494 - val_loss: 0.3496\n",
      "Epoch 58/100\n",
      "\u001b[1m200/200\u001b[0m \u001b[32m━━━━━━━━━━━━━━━━━━━━\u001b[0m\u001b[37m\u001b[0m \u001b[1m0s\u001b[0m 2ms/step - accuracy: 0.8666 - loss: 0.3308 - val_accuracy: 0.8500 - val_loss: 0.3479\n",
      "Epoch 59/100\n",
      "\u001b[1m200/200\u001b[0m \u001b[32m━━━━━━━━━━━━━━━━━━━━\u001b[0m\u001b[37m\u001b[0m \u001b[1m0s\u001b[0m 2ms/step - accuracy: 0.8741 - loss: 0.3136 - val_accuracy: 0.8494 - val_loss: 0.3476\n",
      "Epoch 60/100\n",
      "\u001b[1m200/200\u001b[0m \u001b[32m━━━━━━━━━━━━━━━━━━━━\u001b[0m\u001b[37m\u001b[0m \u001b[1m0s\u001b[0m 2ms/step - accuracy: 0.8606 - loss: 0.3303 - val_accuracy: 0.8475 - val_loss: 0.3483\n",
      "Epoch 61/100\n",
      "\u001b[1m200/200\u001b[0m \u001b[32m━━━━━━━━━━━━━━━━━━━━\u001b[0m\u001b[37m\u001b[0m \u001b[1m0s\u001b[0m 2ms/step - accuracy: 0.8663 - loss: 0.3241 - val_accuracy: 0.8494 - val_loss: 0.3469\n",
      "Epoch 62/100\n",
      "\u001b[1m200/200\u001b[0m \u001b[32m━━━━━━━━━━━━━━━━━━━━\u001b[0m\u001b[37m\u001b[0m \u001b[1m0s\u001b[0m 2ms/step - accuracy: 0.8649 - loss: 0.3323 - val_accuracy: 0.8506 - val_loss: 0.3472\n",
      "Epoch 63/100\n",
      "\u001b[1m200/200\u001b[0m \u001b[32m━━━━━━━━━━━━━━━━━━━━\u001b[0m\u001b[37m\u001b[0m \u001b[1m0s\u001b[0m 2ms/step - accuracy: 0.8679 - loss: 0.3177 - val_accuracy: 0.8500 - val_loss: 0.3486\n",
      "Epoch 64/100\n",
      "\u001b[1m200/200\u001b[0m \u001b[32m━━━━━━━━━━━━━━━━━━━━\u001b[0m\u001b[37m\u001b[0m \u001b[1m0s\u001b[0m 2ms/step - accuracy: 0.8720 - loss: 0.3226 - val_accuracy: 0.8506 - val_loss: 0.3463\n",
      "Epoch 65/100\n",
      "\u001b[1m200/200\u001b[0m \u001b[32m━━━━━━━━━━━━━━━━━━━━\u001b[0m\u001b[37m\u001b[0m \u001b[1m0s\u001b[0m 2ms/step - accuracy: 0.8674 - loss: 0.3201 - val_accuracy: 0.8506 - val_loss: 0.3471\n",
      "Epoch 66/100\n",
      "\u001b[1m200/200\u001b[0m \u001b[32m━━━━━━━━━━━━━━━━━━━━\u001b[0m\u001b[37m\u001b[0m \u001b[1m0s\u001b[0m 2ms/step - accuracy: 0.8581 - loss: 0.3394 - val_accuracy: 0.8500 - val_loss: 0.3462\n",
      "Epoch 67/100\n",
      "\u001b[1m200/200\u001b[0m \u001b[32m━━━━━━━━━━━━━━━━━━━━\u001b[0m\u001b[37m\u001b[0m \u001b[1m0s\u001b[0m 2ms/step - accuracy: 0.8676 - loss: 0.3267 - val_accuracy: 0.8494 - val_loss: 0.3507\n",
      "Epoch 68/100\n",
      "\u001b[1m200/200\u001b[0m \u001b[32m━━━━━━━━━━━━━━━━━━━━\u001b[0m\u001b[37m\u001b[0m \u001b[1m0s\u001b[0m 2ms/step - accuracy: 0.8699 - loss: 0.3183 - val_accuracy: 0.8494 - val_loss: 0.3471\n",
      "Epoch 69/100\n",
      "\u001b[1m200/200\u001b[0m \u001b[32m━━━━━━━━━━━━━━━━━━━━\u001b[0m\u001b[37m\u001b[0m \u001b[1m0s\u001b[0m 2ms/step - accuracy: 0.8640 - loss: 0.3184 - val_accuracy: 0.8481 - val_loss: 0.3470\n",
      "Epoch 70/100\n",
      "\u001b[1m200/200\u001b[0m \u001b[32m━━━━━━━━━━━━━━━━━━━━\u001b[0m\u001b[37m\u001b[0m \u001b[1m0s\u001b[0m 2ms/step - accuracy: 0.8668 - loss: 0.3226 - val_accuracy: 0.8506 - val_loss: 0.3493\n",
      "Epoch 71/100\n",
      "\u001b[1m200/200\u001b[0m \u001b[32m━━━━━━━━━━━━━━━━━━━━\u001b[0m\u001b[37m\u001b[0m \u001b[1m0s\u001b[0m 2ms/step - accuracy: 0.8624 - loss: 0.3324 - val_accuracy: 0.8506 - val_loss: 0.3485\n",
      "Epoch 72/100\n",
      "\u001b[1m200/200\u001b[0m \u001b[32m━━━━━━━━━━━━━━━━━━━━\u001b[0m\u001b[37m\u001b[0m \u001b[1m0s\u001b[0m 2ms/step - accuracy: 0.8597 - loss: 0.3305 - val_accuracy: 0.8537 - val_loss: 0.3477\n",
      "Epoch 73/100\n",
      "\u001b[1m200/200\u001b[0m \u001b[32m━━━━━━━━━━━━━━━━━━━━\u001b[0m\u001b[37m\u001b[0m \u001b[1m0s\u001b[0m 2ms/step - accuracy: 0.8683 - loss: 0.3248 - val_accuracy: 0.8438 - val_loss: 0.3497\n",
      "Epoch 74/100\n",
      "\u001b[1m200/200\u001b[0m \u001b[32m━━━━━━━━━━━━━━━━━━━━\u001b[0m\u001b[37m\u001b[0m \u001b[1m0s\u001b[0m 2ms/step - accuracy: 0.8684 - loss: 0.3246 - val_accuracy: 0.8456 - val_loss: 0.3479\n",
      "Epoch 75/100\n",
      "\u001b[1m200/200\u001b[0m \u001b[32m━━━━━━━━━━━━━━━━━━━━\u001b[0m\u001b[37m\u001b[0m \u001b[1m0s\u001b[0m 2ms/step - accuracy: 0.8731 - loss: 0.3176 - val_accuracy: 0.8506 - val_loss: 0.3490\n",
      "Epoch 76/100\n",
      "\u001b[1m200/200\u001b[0m \u001b[32m━━━━━━━━━━━━━━━━━━━━\u001b[0m\u001b[37m\u001b[0m \u001b[1m0s\u001b[0m 2ms/step - accuracy: 0.8676 - loss: 0.3299 - val_accuracy: 0.8475 - val_loss: 0.3488\n",
      "Epoch 77/100\n",
      "\u001b[1m200/200\u001b[0m \u001b[32m━━━━━━━━━━━━━━━━━━━━\u001b[0m\u001b[37m\u001b[0m \u001b[1m0s\u001b[0m 2ms/step - accuracy: 0.8677 - loss: 0.3181 - val_accuracy: 0.8506 - val_loss: 0.3470\n",
      "Epoch 78/100\n",
      "\u001b[1m200/200\u001b[0m \u001b[32m━━━━━━━━━━━━━━━━━━━━\u001b[0m\u001b[37m\u001b[0m \u001b[1m0s\u001b[0m 2ms/step - accuracy: 0.8707 - loss: 0.3175 - val_accuracy: 0.8456 - val_loss: 0.3481\n",
      "Epoch 79/100\n",
      "\u001b[1m200/200\u001b[0m \u001b[32m━━━━━━━━━━━━━━━━━━━━\u001b[0m\u001b[37m\u001b[0m \u001b[1m0s\u001b[0m 2ms/step - accuracy: 0.8660 - loss: 0.3171 - val_accuracy: 0.8512 - val_loss: 0.3493\n",
      "Epoch 80/100\n",
      "\u001b[1m200/200\u001b[0m \u001b[32m━━━━━━━━━━━━━━━━━━━━\u001b[0m\u001b[37m\u001b[0m \u001b[1m0s\u001b[0m 2ms/step - accuracy: 0.8661 - loss: 0.3194 - val_accuracy: 0.8512 - val_loss: 0.3483\n",
      "Epoch 81/100\n",
      "\u001b[1m200/200\u001b[0m \u001b[32m━━━━━━━━━━━━━━━━━━━━\u001b[0m\u001b[37m\u001b[0m \u001b[1m0s\u001b[0m 2ms/step - accuracy: 0.8673 - loss: 0.3198 - val_accuracy: 0.8500 - val_loss: 0.3454\n",
      "Epoch 82/100\n",
      "\u001b[1m200/200\u001b[0m \u001b[32m━━━━━━━━━━━━━━━━━━━━\u001b[0m\u001b[37m\u001b[0m \u001b[1m0s\u001b[0m 2ms/step - accuracy: 0.8667 - loss: 0.3262 - val_accuracy: 0.8519 - val_loss: 0.3495\n",
      "Epoch 83/100\n",
      "\u001b[1m200/200\u001b[0m \u001b[32m━━━━━━━━━━━━━━━━━━━━\u001b[0m\u001b[37m\u001b[0m \u001b[1m0s\u001b[0m 2ms/step - accuracy: 0.8737 - loss: 0.3200 - val_accuracy: 0.8469 - val_loss: 0.3501\n",
      "Epoch 84/100\n",
      "\u001b[1m200/200\u001b[0m \u001b[32m━━━━━━━━━━━━━━━━━━━━\u001b[0m\u001b[37m\u001b[0m \u001b[1m0s\u001b[0m 2ms/step - accuracy: 0.8665 - loss: 0.3223 - val_accuracy: 0.8512 - val_loss: 0.3470\n",
      "Epoch 85/100\n",
      "\u001b[1m200/200\u001b[0m \u001b[32m━━━━━━━━━━━━━━━━━━━━\u001b[0m\u001b[37m\u001b[0m \u001b[1m0s\u001b[0m 2ms/step - accuracy: 0.8608 - loss: 0.3253 - val_accuracy: 0.8512 - val_loss: 0.3519\n",
      "Epoch 86/100\n",
      "\u001b[1m200/200\u001b[0m \u001b[32m━━━━━━━━━━━━━━━━━━━━\u001b[0m\u001b[37m\u001b[0m \u001b[1m0s\u001b[0m 2ms/step - accuracy: 0.8724 - loss: 0.3171 - val_accuracy: 0.8481 - val_loss: 0.3476\n",
      "Epoch 87/100\n",
      "\u001b[1m200/200\u001b[0m \u001b[32m━━━━━━━━━━━━━━━━━━━━\u001b[0m\u001b[37m\u001b[0m \u001b[1m0s\u001b[0m 2ms/step - accuracy: 0.8701 - loss: 0.3185 - val_accuracy: 0.8469 - val_loss: 0.3478\n",
      "Epoch 88/100\n",
      "\u001b[1m200/200\u001b[0m \u001b[32m━━━━━━━━━━━━━━━━━━━━\u001b[0m\u001b[37m\u001b[0m \u001b[1m0s\u001b[0m 2ms/step - accuracy: 0.8632 - loss: 0.3281 - val_accuracy: 0.8469 - val_loss: 0.3466\n",
      "Epoch 89/100\n",
      "\u001b[1m200/200\u001b[0m \u001b[32m━━━━━━━━━━━━━━━━━━━━\u001b[0m\u001b[37m\u001b[0m \u001b[1m0s\u001b[0m 2ms/step - accuracy: 0.8605 - loss: 0.3254 - val_accuracy: 0.8462 - val_loss: 0.3473\n",
      "Epoch 90/100\n",
      "\u001b[1m200/200\u001b[0m \u001b[32m━━━━━━━━━━━━━━━━━━━━\u001b[0m\u001b[37m\u001b[0m \u001b[1m0s\u001b[0m 2ms/step - accuracy: 0.8634 - loss: 0.3252 - val_accuracy: 0.8456 - val_loss: 0.3481\n",
      "Epoch 91/100\n",
      "\u001b[1m200/200\u001b[0m \u001b[32m━━━━━━━━━━━━━━━━━━━━\u001b[0m\u001b[37m\u001b[0m \u001b[1m0s\u001b[0m 2ms/step - accuracy: 0.8635 - loss: 0.3338 - val_accuracy: 0.8450 - val_loss: 0.3461\n",
      "Epoch 92/100\n",
      "\u001b[1m200/200\u001b[0m \u001b[32m━━━━━━━━━━━━━━━━━━━━\u001b[0m\u001b[37m\u001b[0m \u001b[1m0s\u001b[0m 2ms/step - accuracy: 0.8651 - loss: 0.3314 - val_accuracy: 0.8500 - val_loss: 0.3477\n",
      "Epoch 93/100\n",
      "\u001b[1m200/200\u001b[0m \u001b[32m━━━━━━━━━━━━━━━━━━━━\u001b[0m\u001b[37m\u001b[0m \u001b[1m0s\u001b[0m 2ms/step - accuracy: 0.8683 - loss: 0.3252 - val_accuracy: 0.8481 - val_loss: 0.3468\n",
      "Epoch 94/100\n",
      "\u001b[1m200/200\u001b[0m \u001b[32m━━━━━━━━━━━━━━━━━━━━\u001b[0m\u001b[37m\u001b[0m \u001b[1m0s\u001b[0m 2ms/step - accuracy: 0.8654 - loss: 0.3241 - val_accuracy: 0.8494 - val_loss: 0.3467\n",
      "Epoch 95/100\n",
      "\u001b[1m200/200\u001b[0m \u001b[32m━━━━━━━━━━━━━━━━━━━━\u001b[0m\u001b[37m\u001b[0m \u001b[1m0s\u001b[0m 2ms/step - accuracy: 0.8641 - loss: 0.3248 - val_accuracy: 0.8506 - val_loss: 0.3457\n",
      "Epoch 96/100\n",
      "\u001b[1m200/200\u001b[0m \u001b[32m━━━━━━━━━━━━━━━━━━━━\u001b[0m\u001b[37m\u001b[0m \u001b[1m0s\u001b[0m 2ms/step - accuracy: 0.8745 - loss: 0.3121 - val_accuracy: 0.8494 - val_loss: 0.3473\n",
      "Epoch 97/100\n",
      "\u001b[1m200/200\u001b[0m \u001b[32m━━━━━━━━━━━━━━━━━━━━\u001b[0m\u001b[37m\u001b[0m \u001b[1m0s\u001b[0m 2ms/step - accuracy: 0.8649 - loss: 0.3222 - val_accuracy: 0.8487 - val_loss: 0.3476\n",
      "Epoch 98/100\n",
      "\u001b[1m200/200\u001b[0m \u001b[32m━━━━━━━━━━━━━━━━━━━━\u001b[0m\u001b[37m\u001b[0m \u001b[1m0s\u001b[0m 2ms/step - accuracy: 0.8694 - loss: 0.3087 - val_accuracy: 0.8500 - val_loss: 0.3491\n",
      "Epoch 99/100\n",
      "\u001b[1m200/200\u001b[0m \u001b[32m━━━━━━━━━━━━━━━━━━━━\u001b[0m\u001b[37m\u001b[0m \u001b[1m0s\u001b[0m 2ms/step - accuracy: 0.8631 - loss: 0.3318 - val_accuracy: 0.8500 - val_loss: 0.3473\n",
      "Epoch 100/100\n",
      "\u001b[1m200/200\u001b[0m \u001b[32m━━━━━━━━━━━━━━━━━━━━\u001b[0m\u001b[37m\u001b[0m \u001b[1m0s\u001b[0m 2ms/step - accuracy: 0.8697 - loss: 0.3202 - val_accuracy: 0.8506 - val_loss: 0.3477\n"
     ]
    }
   ],
   "source": [
    "history=model.fit(X_train_scaled,y_train,epochs=100,validation_split=0.2)"
   ]
  },
  {
   "cell_type": "code",
   "execution_count": 22,
   "id": "1db88adb",
   "metadata": {
    "execution": {
     "iopub.execute_input": "2025-02-23T18:07:40.129281Z",
     "iopub.status.busy": "2025-02-23T18:07:40.128882Z",
     "iopub.status.idle": "2025-02-23T18:07:40.141051Z",
     "shell.execute_reply": "2025-02-23T18:07:40.139857Z"
    },
    "id": "39U0cv3e9c2R",
    "outputId": "371aa8b4-91e5-4bec-fd88-58b14e846dd5",
    "papermill": {
     "duration": 0.070372,
     "end_time": "2025-02-23T18:07:40.142947",
     "exception": false,
     "start_time": "2025-02-23T18:07:40.072575",
     "status": "completed"
    },
    "tags": []
   },
   "outputs": [
    {
     "data": {
      "text/plain": [
       "[array([[ 0.15526268, -0.1689488 , -0.05854435,  0.2438522 ,  0.00793107,\n",
       "          0.10040119,  0.01346531,  0.0626073 , -0.12690419,  0.16732104,\n",
       "          0.23982139],\n",
       "        [-0.08074615, -0.5084707 , -0.0403484 , -0.51687974,  0.4412986 ,\n",
       "          0.2381011 ,  0.43007708, -1.1878337 , -0.49743873,  1.0333942 ,\n",
       "          0.04169643],\n",
       "        [ 0.25741214,  0.07207984, -0.09869315, -0.48628205,  0.11512087,\n",
       "         -0.19704798, -0.33155927, -0.24995103,  0.45646712, -0.11888426,\n",
       "         -0.03158482],\n",
       "        [-0.08818692, -0.06986658, -0.5557933 , -0.02605772, -0.22305728,\n",
       "          0.2434153 ,  0.482199  ,  0.33132875,  0.00992067, -0.00843243,\n",
       "          0.10733824],\n",
       "        [ 1.2909727 ,  0.01877212, -0.84452933,  0.21009608, -0.19729397,\n",
       "         -1.0846014 ,  0.9804049 , -0.11159665,  0.4431612 , -0.35887745,\n",
       "         -0.44172627],\n",
       "        [-0.06861155, -0.19941327, -0.04214552, -0.15496223,  0.1194855 ,\n",
       "         -0.1299825 , -0.02920915, -0.00271737,  0.2825063 , -0.04005343,\n",
       "          0.30371973],\n",
       "        [ 0.13876598,  0.45787746, -0.11248316, -0.55378145,  0.69570774,\n",
       "         -0.39914045, -0.453122  , -0.3406145 , -0.14839135,  0.71685207,\n",
       "         -0.17611527],\n",
       "        [-0.14073244, -0.44050008, -0.03189579,  0.11187318,  0.24884866,\n",
       "          0.27904707,  0.12279575,  0.16663261,  0.12784474, -0.08061993,\n",
       "         -0.1692808 ],\n",
       "        [-0.17311323,  0.18663178,  0.2545027 ,  0.01565621, -0.16549525,\n",
       "         -0.10154025, -0.0387388 ,  0.09809138,  0.14002174,  0.3798018 ,\n",
       "          0.48025218],\n",
       "        [ 0.38176352, -0.74661714, -0.01190592,  0.03151474,  0.1278335 ,\n",
       "          0.19298212,  0.01145203,  0.12921531,  0.2749889 ,  0.22981535,\n",
       "         -0.2513241 ],\n",
       "        [-0.09759677, -0.46498284,  0.07356852,  0.2591537 ,  0.35209572,\n",
       "         -0.00354065, -0.03650558, -0.52219415,  0.5259227 , -0.213746  ,\n",
       "         -0.18706074]], dtype=float32),\n",
       " array([-0.34744835,  0.22682853, -0.1587017 ,  0.9634727 ,  0.17592855,\n",
       "         0.09080016,  0.07662871,  0.72032166,  0.4543502 , -0.28607377,\n",
       "        -0.43285543], dtype=float32)]"
      ]
     },
     "execution_count": 22,
     "metadata": {},
     "output_type": "execute_result"
    }
   ],
   "source": [
    "model.layers[0].get_weights()"
   ]
  },
  {
   "cell_type": "code",
   "execution_count": 23,
   "id": "6bbd5cc6",
   "metadata": {
    "execution": {
     "iopub.execute_input": "2025-02-23T18:07:40.253679Z",
     "iopub.status.busy": "2025-02-23T18:07:40.253315Z",
     "iopub.status.idle": "2025-02-23T18:07:40.262428Z",
     "shell.execute_reply": "2025-02-23T18:07:40.261330Z"
    },
    "id": "1lPg_8wV9pq3",
    "outputId": "2f75d3e3-e630-4fad-cf8a-816ea7fb39b2",
    "papermill": {
     "duration": 0.065853,
     "end_time": "2025-02-23T18:07:40.264177",
     "exception": false,
     "start_time": "2025-02-23T18:07:40.198324",
     "status": "completed"
    },
    "tags": []
   },
   "outputs": [
    {
     "data": {
      "text/plain": [
       "[array([[ 5.69331348e-01, -1.40354723e-01, -5.41263402e-01,\n",
       "          3.88151616e-01, -2.43810162e-01,  3.53053898e-01,\n",
       "          4.80496764e-01, -4.37423229e-01,  1.00080915e-01,\n",
       "          5.34074716e-02, -7.00349867e-01],\n",
       "        [-6.63781213e-03,  9.71417576e-02,  2.52930164e-01,\n",
       "          2.29964077e-01,  3.71462256e-01,  4.25673217e-01,\n",
       "          2.36794233e-01, -4.64138761e-03, -6.14040494e-01,\n",
       "          5.92048168e-01,  3.26564372e-01],\n",
       "        [ 5.66746414e-01, -8.48439932e-02, -7.26586580e-01,\n",
       "          2.11705521e-01, -5.01260519e-01,  5.74504018e-01,\n",
       "         -3.93931568e-02, -6.70110583e-01, -5.61423838e-01,\n",
       "         -5.53373337e-01,  2.63805449e-01],\n",
       "        [ 2.68941790e-01, -1.05094361e+00,  3.33148152e-01,\n",
       "          5.28493822e-02,  6.08235002e-01, -5.24917901e-01,\n",
       "          1.71128154e-01, -2.05668062e-02,  5.81774056e-01,\n",
       "         -4.41458039e-02,  3.32815014e-02],\n",
       "        [-1.52494416e-01, -3.92534435e-01,  2.87117243e-01,\n",
       "         -9.04047713e-02,  8.06527063e-02,  4.28081691e-01,\n",
       "         -8.90006963e-03,  3.67396265e-01, -4.68353108e-02,\n",
       "          5.05522549e-01,  9.14342031e-02],\n",
       "        [ 4.19157177e-01,  3.44399244e-01, -4.54255760e-01,\n",
       "          6.49238825e-01, -1.05769455e-01,  5.20472288e-01,\n",
       "         -4.39164564e-02, -3.35474551e-01, -9.94423330e-02,\n",
       "         -1.62664309e-01,  4.98911142e-01],\n",
       "        [ 4.90698457e-01, -1.34032810e+00, -3.57675970e-01,\n",
       "          7.09477842e-01, -2.19633788e-01, -3.60958993e-01,\n",
       "         -6.68064177e-01,  1.64836720e-01, -2.64164627e-01,\n",
       "         -4.95826483e-01, -5.64155042e-01],\n",
       "        [ 2.33706698e-01, -4.31330830e-01,  5.45260370e-01,\n",
       "         -7.37747431e-01,  3.88561189e-01, -7.79113173e-01,\n",
       "         -5.07391334e-01,  1.20270774e-01, -3.88935447e-01,\n",
       "         -1.52554035e-01,  9.88362730e-02],\n",
       "        [ 7.84602284e-01,  8.54366943e-02,  3.31215896e-02,\n",
       "          1.96540699e-04,  1.22726910e-01, -7.98723221e-01,\n",
       "          2.07347125e-01,  1.73720524e-01,  7.70293474e-02,\n",
       "          1.16192117e-01,  1.70937821e-01],\n",
       "        [-2.71726578e-01,  1.47058263e-01,  2.70068467e-01,\n",
       "          1.73762754e-01, -5.78321636e-01, -4.44944441e-01,\n",
       "         -5.22664428e-01,  6.97690725e-01,  2.48870641e-01,\n",
       "          5.60414374e-01,  4.11728531e-01],\n",
       "        [-4.04995769e-01,  4.46827292e-01,  1.03081606e-01,\n",
       "         -2.85557151e-01, -4.60820258e-01,  5.82414806e-01,\n",
       "          1.81626622e-02, -3.73024195e-02, -8.27546477e-01,\n",
       "         -2.97854662e-01, -5.29813394e-02]], dtype=float32),\n",
       " array([-0.39421958,  0.27653432, -0.3384946 , -0.12609589,  0.73076355,\n",
       "         0.1858939 ,  0.7017225 ,  0.52889246,  0.5775401 ,  0.3103636 ,\n",
       "        -0.00944067], dtype=float32)]"
      ]
     },
     "execution_count": 23,
     "metadata": {},
     "output_type": "execute_result"
    }
   ],
   "source": [
    "model.layers[1].get_weights()"
   ]
  },
  {
   "cell_type": "code",
   "execution_count": 24,
   "id": "fdb55b11",
   "metadata": {
    "execution": {
     "iopub.execute_input": "2025-02-23T18:07:40.375849Z",
     "iopub.status.busy": "2025-02-23T18:07:40.375432Z",
     "iopub.status.idle": "2025-02-23T18:07:40.385649Z",
     "shell.execute_reply": "2025-02-23T18:07:40.384450Z"
    },
    "id": "f2aqxJBkEK_9",
    "outputId": "3a20e1ee-17ca-41ce-d8f1-d5df3d9ec6e1",
    "papermill": {
     "duration": 0.067925,
     "end_time": "2025-02-23T18:07:40.387604",
     "exception": false,
     "start_time": "2025-02-23T18:07:40.319679",
     "status": "completed"
    },
    "tags": []
   },
   "outputs": [
    {
     "data": {
      "text/plain": [
       "[array([[ 0.523162  ],\n",
       "        [ 0.97524667],\n",
       "        [ 0.5510499 ],\n",
       "        [ 1.1527808 ],\n",
       "        [-1.1030658 ],\n",
       "        [ 0.780309  ],\n",
       "        [-1.1460193 ],\n",
       "        [-0.72104734],\n",
       "        [-1.1443176 ],\n",
       "        [-0.6088197 ],\n",
       "        [ 0.23811261]], dtype=float32),\n",
       " array([-0.27251115], dtype=float32)]"
      ]
     },
     "execution_count": 24,
     "metadata": {},
     "output_type": "execute_result"
    }
   ],
   "source": [
    "model.layers[2].get_weights()"
   ]
  },
  {
   "cell_type": "code",
   "execution_count": 25,
   "id": "a065f5bc",
   "metadata": {
    "execution": {
     "iopub.execute_input": "2025-02-23T18:07:40.500576Z",
     "iopub.status.busy": "2025-02-23T18:07:40.500221Z",
     "iopub.status.idle": "2025-02-23T18:07:40.764858Z",
     "shell.execute_reply": "2025-02-23T18:07:40.763724Z"
    },
    "id": "p8bSmwrv9_JI",
    "outputId": "e86209e6-efdd-4569-d8a4-2d115a1cc2a7",
    "papermill": {
     "duration": 0.324691,
     "end_time": "2025-02-23T18:07:40.766858",
     "exception": false,
     "start_time": "2025-02-23T18:07:40.442167",
     "status": "completed"
    },
    "tags": []
   },
   "outputs": [
    {
     "name": "stdout",
     "output_type": "stream",
     "text": [
      "\u001b[1m63/63\u001b[0m \u001b[32m━━━━━━━━━━━━━━━━━━━━\u001b[0m\u001b[37m\u001b[0m \u001b[1m0s\u001b[0m 2ms/step\n"
     ]
    }
   ],
   "source": [
    "y_log=model.predict(X_test_scaled)"
   ]
  },
  {
   "cell_type": "code",
   "execution_count": 26,
   "id": "139b0b47",
   "metadata": {
    "execution": {
     "iopub.execute_input": "2025-02-23T18:07:40.942106Z",
     "iopub.status.busy": "2025-02-23T18:07:40.941653Z",
     "iopub.status.idle": "2025-02-23T18:07:40.946637Z",
     "shell.execute_reply": "2025-02-23T18:07:40.945565Z"
    },
    "id": "o6Emny4E-EJb",
    "papermill": {
     "duration": 0.126814,
     "end_time": "2025-02-23T18:07:40.948362",
     "exception": false,
     "start_time": "2025-02-23T18:07:40.821548",
     "status": "completed"
    },
    "tags": []
   },
   "outputs": [],
   "source": [
    "import numpy as np\n",
    "Y_pred=np.where(y_log>0.5,1,0)"
   ]
  },
  {
   "cell_type": "code",
   "execution_count": 27,
   "id": "20ba0ccc",
   "metadata": {
    "execution": {
     "iopub.execute_input": "2025-02-23T18:07:41.061842Z",
     "iopub.status.busy": "2025-02-23T18:07:41.061414Z",
     "iopub.status.idle": "2025-02-23T18:07:41.069901Z",
     "shell.execute_reply": "2025-02-23T18:07:41.068740Z"
    },
    "id": "GNhTdaS4-WxI",
    "outputId": "43aa8bee-9501-40e5-8057-b145201fa62e",
    "papermill": {
     "duration": 0.066499,
     "end_time": "2025-02-23T18:07:41.071720",
     "exception": false,
     "start_time": "2025-02-23T18:07:41.005221",
     "status": "completed"
    },
    "tags": []
   },
   "outputs": [
    {
     "data": {
      "text/plain": [
       "0.859"
      ]
     },
     "execution_count": 27,
     "metadata": {},
     "output_type": "execute_result"
    }
   ],
   "source": [
    "from sklearn.metrics import accuracy_score\n",
    "accuracy_score(y_test,Y_pred)"
   ]
  },
  {
   "cell_type": "code",
   "execution_count": 28,
   "id": "48d0f804",
   "metadata": {
    "execution": {
     "iopub.execute_input": "2025-02-23T18:07:41.182818Z",
     "iopub.status.busy": "2025-02-23T18:07:41.182369Z",
     "iopub.status.idle": "2025-02-23T18:07:41.492565Z",
     "shell.execute_reply": "2025-02-23T18:07:41.491407Z"
    },
    "id": "FBi-2vae-nnq",
    "outputId": "206c7e2e-e40d-41f4-a516-4cd572fd7475",
    "papermill": {
     "duration": 0.367685,
     "end_time": "2025-02-23T18:07:41.494512",
     "exception": false,
     "start_time": "2025-02-23T18:07:41.126827",
     "status": "completed"
    },
    "tags": []
   },
   "outputs": [
    {
     "data": {
      "text/plain": [
       "[<matplotlib.lines.Line2D at 0x7982c7fb9570>]"
      ]
     },
     "execution_count": 28,
     "metadata": {},
     "output_type": "execute_result"
    },
    {
     "data": {
      "image/png": "[encoded data removed]",
      "text/plain": [
       "<Figure size 640x480 with 1 Axes>"
      ]
     },
     "metadata": {},
     "output_type": "display_data"
    }
   ],
   "source": [
    "plt.plot(history.history['accuracy'])\n",
    "plt.plot(history.history['val_accuracy'])\n"
   ]
  },
  {
   "cell_type": "code",
   "execution_count": 29,
   "id": "31a1f72d",
   "metadata": {
    "execution": {
     "iopub.execute_input": "2025-02-23T18:07:41.607637Z",
     "iopub.status.busy": "2025-02-23T18:07:41.607221Z",
     "iopub.status.idle": "2025-02-23T18:07:41.785844Z",
     "shell.execute_reply": "2025-02-23T18:07:41.784676Z"
    },
    "id": "sYA_CoQ8GQB_",
    "outputId": "5a28c776-af4e-4bf0-960b-f2cb84ac51d7",
    "papermill": {
     "duration": 0.237347,
     "end_time": "2025-02-23T18:07:41.787853",
     "exception": false,
     "start_time": "2025-02-23T18:07:41.550506",
     "status": "completed"
    },
    "tags": []
   },
   "outputs": [
    {
     "data": {
      "text/plain": [
       "[<matplotlib.lines.Line2D at 0x7982ace20b80>]"
      ]
     },
     "execution_count": 29,
     "metadata": {},
     "output_type": "execute_result"
    },
    {
     "data": {
      "image/png": "[encoded data removed]",
      "text/plain": [
       "<Figure size 640x480 with 1 Axes>"
      ]
     },
     "metadata": {},
     "output_type": "display_data"
    }
   ],
   "source": [
    "plt.plot(history.history['loss'])\n",
    "plt.plot(history.history['val_loss'])"
   ]
  },
  {
   "cell_type": "code",
   "execution_count": null,
   "id": "2086eafa",
   "metadata": {
    "id": "o2DOXkNtGUSM",
    "papermill": {
     "duration": 0.057171,
     "end_time": "2025-02-23T18:07:41.902154",
     "exception": false,
     "start_time": "2025-02-23T18:07:41.844983",
     "status": "completed"
    },
    "tags": []
   },
   "outputs": [],
   "source": []
  }
 ],
 "metadata": {
  "colab": {
   "provenance": []
  },
  "kaggle": {
   "accelerator": "none",
   "dataSources": [
    {
     "datasetId": 869651,
     "sourceId": 1481789,
     "sourceType": "datasetVersion"
    }
   ],
   "dockerImageVersionId": 30918,
   "isGpuEnabled": false,
   "isInternetEnabled": true,
   "language": "python",
   "sourceType": "notebook"
  },
  "kernelspec": {
   "display_name": "Python 3",
   "language": "python",
   "name": "python3"
  },
  "language_info": {
   "codemirror_mode": {
    "name": "ipython",
    "version": 3
   },
   "file_extension": ".py",
   "mimetype": "text/x-python",
   "name": "python",
   "nbconvert_exporter": "python",
   "pygments_lexer": "ipython3",
   "version": "3.10.12"
  },
  "papermill": {
   "default_parameters": {},
   "duration": 70.814946,
   "end_time": "2025-02-23T18:07:43.885081",
   "environment_variables": {},
   "exception": null,
   "input_path": "__notebook__.ipynb",
   "output_path": "__notebook__.ipynb",
   "parameters": {},
   "start_time": "2025-02-23T18:06:33.070135",
   "version": "2.6.0"
  }
 },
 "nbformat": 4,
 "nbformat_minor": 5
}
